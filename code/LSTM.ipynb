{
  "nbformat": 4,
  "nbformat_minor": 0,
  "metadata": {
    "colab": {
      "name": "LSTM.ipynb",
      "provenance": [],
      "authorship_tag": "ABX9TyODSKcJ6lAtstto/9E57kkv",
      "include_colab_link": true
    },
    "kernelspec": {
      "name": "python3",
      "display_name": "Python 3"
    },
    "language_info": {
      "name": "python"
    }
  },
  "cells": [
    {
      "cell_type": "markdown",
      "metadata": {
        "id": "view-in-github",
        "colab_type": "text"
      },
      "source": [
        "<a href=\"https://colab.research.google.com/github/SriNithin965/project-4-2/blob/main/code/LSTM.ipynb\" target=\"_parent\"><img src=\"https://colab.research.google.com/assets/colab-badge.svg\" alt=\"Open In Colab\"/></a>"
      ]
    },
    {
      "cell_type": "markdown",
      "source": [
        "PACKAGES INSTALLING"
      ],
      "metadata": {
        "id": "TxZccLBtgQSI"
      }
    },
    {
      "cell_type": "code",
      "execution_count": 1,
      "metadata": {
        "id": "1ijtnl6UKs3g",
        "outputId": "635c148c-66df-49f2-aac9-e786c8c5cd4e",
        "colab": {
          "base_uri": "https://localhost:8080/"
        }
      },
      "outputs": [
        {
          "output_type": "stream",
          "name": "stdout",
          "text": [
            "Looking in indexes: https://pypi.org/simple, https://us-python.pkg.dev/colab-wheels/public/simple/\n",
            "Collecting pandas==1.2.0\n",
            "  Downloading pandas-1.2.0-cp37-cp37m-manylinux1_x86_64.whl (9.9 MB)\n",
            "\u001b[K     |████████████████████████████████| 9.9 MB 4.8 MB/s \n",
            "\u001b[?25hRequirement already satisfied: numpy>=1.16.5 in /usr/local/lib/python3.7/dist-packages (from pandas==1.2.0) (1.21.6)\n",
            "Requirement already satisfied: pytz>=2017.3 in /usr/local/lib/python3.7/dist-packages (from pandas==1.2.0) (2022.1)\n",
            "Requirement already satisfied: python-dateutil>=2.7.3 in /usr/local/lib/python3.7/dist-packages (from pandas==1.2.0) (2.8.2)\n",
            "Requirement already satisfied: six>=1.5 in /usr/local/lib/python3.7/dist-packages (from python-dateutil>=2.7.3->pandas==1.2.0) (1.15.0)\n",
            "Installing collected packages: pandas\n",
            "  Attempting uninstall: pandas\n",
            "    Found existing installation: pandas 1.3.5\n",
            "    Uninstalling pandas-1.3.5:\n",
            "      Successfully uninstalled pandas-1.3.5\n",
            "Successfully installed pandas-1.2.0\n",
            "Looking in indexes: https://pypi.org/simple, https://us-python.pkg.dev/colab-wheels/public/simple/\n",
            "Requirement already satisfied: xlrd in /usr/local/lib/python3.7/dist-packages (1.1.0)\n",
            "Collecting xlrd\n",
            "  Downloading xlrd-2.0.1-py2.py3-none-any.whl (96 kB)\n",
            "\u001b[K     |████████████████████████████████| 96 kB 2.7 MB/s \n",
            "\u001b[?25hInstalling collected packages: xlrd\n",
            "  Attempting uninstall: xlrd\n",
            "    Found existing installation: xlrd 1.1.0\n",
            "    Uninstalling xlrd-1.1.0:\n",
            "      Successfully uninstalled xlrd-1.1.0\n",
            "Successfully installed xlrd-2.0.1\n"
          ]
        }
      ],
      "source": [
        "!pip install pandas==1.2.0\n",
        "!pip install --upgrade xlrd"
      ]
    },
    {
      "cell_type": "markdown",
      "source": [
        "PACKAGES LOADING"
      ],
      "metadata": {
        "id": "XcGshFYWgW1R"
      }
    },
    {
      "cell_type": "code",
      "source": [
        "import pandas as pd\n",
        "import numpy as np\n",
        "import keras\n",
        "from keras.layers import Dense\n",
        "from keras.models import Sequential\n",
        "from tensorflow.keras.optimizers import Adam\n",
        "from keras.utils import np_utils\n",
        "from keras.layers import LSTM\n",
        "from sklearn.preprocessing import MinMaxScaler"
      ],
      "metadata": {
        "id": "XEWWFUcXYavM"
      },
      "execution_count": 2,
      "outputs": []
    },
    {
      "cell_type": "markdown",
      "source": [
        "DATA LOADING"
      ],
      "metadata": {
        "id": "lXDjAnblgbKA"
      }
    },
    {
      "cell_type": "code",
      "source": [
        "data = pd.read_excel('https://github.com/SriNithin965/project-4-2/raw/main/data/Sample-Superstore.xls')"
      ],
      "metadata": {
        "id": "QXMr3FvLYeQ1"
      },
      "execution_count": 30,
      "outputs": []
    },
    {
      "cell_type": "markdown",
      "source": [
        "DATA TRANSFORMATION"
      ],
      "metadata": {
        "id": "sV0jkmjDhOlt"
      }
    },
    {
      "cell_type": "code",
      "source": [
        "data1 = data[['Ship Date','Sales']]\n",
        "data1 = data1.groupby('Ship Date').sum()\n",
        "data1 = data1.resample('MS').median()\n",
        "data1.head(10)"
      ],
      "metadata": {
        "id": "Do3Q87eRY_nL",
        "outputId": "99a40eb3-e3b6-4b6d-ab86-940f0bfc5bdf",
        "colab": {
          "base_uri": "https://localhost:8080/",
          "height": 394
        }
      },
      "execution_count": 31,
      "outputs": [
        {
          "output_type": "execute_result",
          "data": {
            "text/plain": [
              "              Sales\n",
              "Ship Date          \n",
              "2014-01-01  149.950\n",
              "2014-02-01  112.411\n",
              "2014-03-01  483.546\n",
              "2014-04-01  680.252\n",
              "2014-05-01  504.828\n",
              "2014-06-01  656.066\n",
              "2014-07-01  504.586\n",
              "2014-08-01  884.666\n",
              "2014-09-01  947.648\n",
              "2014-10-01  672.993"
            ],
            "text/html": [
              "\n",
              "  <div id=\"df-4063e024-8181-4c54-a23d-eee1ea31eaa8\">\n",
              "    <div class=\"colab-df-container\">\n",
              "      <div>\n",
              "<style scoped>\n",
              "    .dataframe tbody tr th:only-of-type {\n",
              "        vertical-align: middle;\n",
              "    }\n",
              "\n",
              "    .dataframe tbody tr th {\n",
              "        vertical-align: top;\n",
              "    }\n",
              "\n",
              "    .dataframe thead th {\n",
              "        text-align: right;\n",
              "    }\n",
              "</style>\n",
              "<table border=\"1\" class=\"dataframe\">\n",
              "  <thead>\n",
              "    <tr style=\"text-align: right;\">\n",
              "      <th></th>\n",
              "      <th>Sales</th>\n",
              "    </tr>\n",
              "    <tr>\n",
              "      <th>Ship Date</th>\n",
              "      <th></th>\n",
              "    </tr>\n",
              "  </thead>\n",
              "  <tbody>\n",
              "    <tr>\n",
              "      <th>2014-01-01</th>\n",
              "      <td>149.950</td>\n",
              "    </tr>\n",
              "    <tr>\n",
              "      <th>2014-02-01</th>\n",
              "      <td>112.411</td>\n",
              "    </tr>\n",
              "    <tr>\n",
              "      <th>2014-03-01</th>\n",
              "      <td>483.546</td>\n",
              "    </tr>\n",
              "    <tr>\n",
              "      <th>2014-04-01</th>\n",
              "      <td>680.252</td>\n",
              "    </tr>\n",
              "    <tr>\n",
              "      <th>2014-05-01</th>\n",
              "      <td>504.828</td>\n",
              "    </tr>\n",
              "    <tr>\n",
              "      <th>2014-06-01</th>\n",
              "      <td>656.066</td>\n",
              "    </tr>\n",
              "    <tr>\n",
              "      <th>2014-07-01</th>\n",
              "      <td>504.586</td>\n",
              "    </tr>\n",
              "    <tr>\n",
              "      <th>2014-08-01</th>\n",
              "      <td>884.666</td>\n",
              "    </tr>\n",
              "    <tr>\n",
              "      <th>2014-09-01</th>\n",
              "      <td>947.648</td>\n",
              "    </tr>\n",
              "    <tr>\n",
              "      <th>2014-10-01</th>\n",
              "      <td>672.993</td>\n",
              "    </tr>\n",
              "  </tbody>\n",
              "</table>\n",
              "</div>\n",
              "      <button class=\"colab-df-convert\" onclick=\"convertToInteractive('df-4063e024-8181-4c54-a23d-eee1ea31eaa8')\"\n",
              "              title=\"Convert this dataframe to an interactive table.\"\n",
              "              style=\"display:none;\">\n",
              "        \n",
              "  <svg xmlns=\"http://www.w3.org/2000/svg\" height=\"24px\"viewBox=\"0 0 24 24\"\n",
              "       width=\"24px\">\n",
              "    <path d=\"M0 0h24v24H0V0z\" fill=\"none\"/>\n",
              "    <path d=\"M18.56 5.44l.94 2.06.94-2.06 2.06-.94-2.06-.94-.94-2.06-.94 2.06-2.06.94zm-11 1L8.5 8.5l.94-2.06 2.06-.94-2.06-.94L8.5 2.5l-.94 2.06-2.06.94zm10 10l.94 2.06.94-2.06 2.06-.94-2.06-.94-.94-2.06-.94 2.06-2.06.94z\"/><path d=\"M17.41 7.96l-1.37-1.37c-.4-.4-.92-.59-1.43-.59-.52 0-1.04.2-1.43.59L10.3 9.45l-7.72 7.72c-.78.78-.78 2.05 0 2.83L4 21.41c.39.39.9.59 1.41.59.51 0 1.02-.2 1.41-.59l7.78-7.78 2.81-2.81c.8-.78.8-2.07 0-2.86zM5.41 20L4 18.59l7.72-7.72 1.47 1.35L5.41 20z\"/>\n",
              "  </svg>\n",
              "      </button>\n",
              "      \n",
              "  <style>\n",
              "    .colab-df-container {\n",
              "      display:flex;\n",
              "      flex-wrap:wrap;\n",
              "      gap: 12px;\n",
              "    }\n",
              "\n",
              "    .colab-df-convert {\n",
              "      background-color: #E8F0FE;\n",
              "      border: none;\n",
              "      border-radius: 50%;\n",
              "      cursor: pointer;\n",
              "      display: none;\n",
              "      fill: #1967D2;\n",
              "      height: 32px;\n",
              "      padding: 0 0 0 0;\n",
              "      width: 32px;\n",
              "    }\n",
              "\n",
              "    .colab-df-convert:hover {\n",
              "      background-color: #E2EBFA;\n",
              "      box-shadow: 0px 1px 2px rgba(60, 64, 67, 0.3), 0px 1px 3px 1px rgba(60, 64, 67, 0.15);\n",
              "      fill: #174EA6;\n",
              "    }\n",
              "\n",
              "    [theme=dark] .colab-df-convert {\n",
              "      background-color: #3B4455;\n",
              "      fill: #D2E3FC;\n",
              "    }\n",
              "\n",
              "    [theme=dark] .colab-df-convert:hover {\n",
              "      background-color: #434B5C;\n",
              "      box-shadow: 0px 1px 3px 1px rgba(0, 0, 0, 0.15);\n",
              "      filter: drop-shadow(0px 1px 2px rgba(0, 0, 0, 0.3));\n",
              "      fill: #FFFFFF;\n",
              "    }\n",
              "  </style>\n",
              "\n",
              "      <script>\n",
              "        const buttonEl =\n",
              "          document.querySelector('#df-4063e024-8181-4c54-a23d-eee1ea31eaa8 button.colab-df-convert');\n",
              "        buttonEl.style.display =\n",
              "          google.colab.kernel.accessAllowed ? 'block' : 'none';\n",
              "\n",
              "        async function convertToInteractive(key) {\n",
              "          const element = document.querySelector('#df-4063e024-8181-4c54-a23d-eee1ea31eaa8');\n",
              "          const dataTable =\n",
              "            await google.colab.kernel.invokeFunction('convertToInteractive',\n",
              "                                                     [key], {});\n",
              "          if (!dataTable) return;\n",
              "\n",
              "          const docLinkHtml = 'Like what you see? Visit the ' +\n",
              "            '<a target=\"_blank\" href=https://colab.research.google.com/notebooks/data_table.ipynb>data table notebook</a>'\n",
              "            + ' to learn more about interactive tables.';\n",
              "          element.innerHTML = '';\n",
              "          dataTable['output_type'] = 'display_data';\n",
              "          await google.colab.output.renderOutput(dataTable, element);\n",
              "          const docLink = document.createElement('div');\n",
              "          docLink.innerHTML = docLinkHtml;\n",
              "          element.appendChild(docLink);\n",
              "        }\n",
              "      </script>\n",
              "    </div>\n",
              "  </div>\n",
              "  "
            ]
          },
          "metadata": {},
          "execution_count": 31
        }
      ]
    },
    {
      "cell_type": "code",
      "source": [
        "data1 = data1.dropna()"
      ],
      "metadata": {
        "id": "30xYZ2EJZMkY"
      },
      "execution_count": 32,
      "outputs": []
    },
    {
      "cell_type": "code",
      "source": [
        "data1 = data1.reset_index()"
      ],
      "metadata": {
        "id": "4rdxi0jZdil9"
      },
      "execution_count": 33,
      "outputs": []
    },
    {
      "cell_type": "code",
      "source": [
        "data1.rename(columns={'Ship Date':'date','Sales':'sales'},inplace=True)"
      ],
      "metadata": {
        "id": "tIm0tlERch1Y"
      },
      "execution_count": 34,
      "outputs": []
    },
    {
      "cell_type": "code",
      "source": [
        "df_diff = data1.copy()\n",
        "df_diff['prev_sales'] = df_diff['sales'].shift(1)\n",
        "df_diff = df_diff.dropna()\n",
        "df_diff['diff'] = (df_diff['sales'] - df_diff['prev_sales'])\n",
        "df_diff.head(10)"
      ],
      "metadata": {
        "id": "JC_mmaVhZD11",
        "outputId": "ce42d375-0a8f-4cad-bdeb-47e2731b815c",
        "colab": {
          "base_uri": "https://localhost:8080/",
          "height": 363
        }
      },
      "execution_count": 35,
      "outputs": [
        {
          "output_type": "execute_result",
          "data": {
            "text/plain": [
              "         date      sales  prev_sales       diff\n",
              "1  2014-02-01   112.4110     149.950   -37.5390\n",
              "2  2014-03-01   483.5460     112.411   371.1350\n",
              "3  2014-04-01   680.2520     483.546   196.7060\n",
              "4  2014-05-01   504.8280     680.252  -175.4240\n",
              "5  2014-06-01   656.0660     504.828   151.2380\n",
              "6  2014-07-01   504.5860     656.066  -151.4800\n",
              "7  2014-08-01   884.6660     504.586   380.0800\n",
              "8  2014-09-01   947.6480     884.666    62.9820\n",
              "9  2014-10-01   672.9930     947.648  -274.6550\n",
              "10 2014-11-01  2202.8545     672.993  1529.8615"
            ],
            "text/html": [
              "\n",
              "  <div id=\"df-062ac6a8-be20-4a6f-9fcc-ddb0cb8705b1\">\n",
              "    <div class=\"colab-df-container\">\n",
              "      <div>\n",
              "<style scoped>\n",
              "    .dataframe tbody tr th:only-of-type {\n",
              "        vertical-align: middle;\n",
              "    }\n",
              "\n",
              "    .dataframe tbody tr th {\n",
              "        vertical-align: top;\n",
              "    }\n",
              "\n",
              "    .dataframe thead th {\n",
              "        text-align: right;\n",
              "    }\n",
              "</style>\n",
              "<table border=\"1\" class=\"dataframe\">\n",
              "  <thead>\n",
              "    <tr style=\"text-align: right;\">\n",
              "      <th></th>\n",
              "      <th>date</th>\n",
              "      <th>sales</th>\n",
              "      <th>prev_sales</th>\n",
              "      <th>diff</th>\n",
              "    </tr>\n",
              "  </thead>\n",
              "  <tbody>\n",
              "    <tr>\n",
              "      <th>1</th>\n",
              "      <td>2014-02-01</td>\n",
              "      <td>112.4110</td>\n",
              "      <td>149.950</td>\n",
              "      <td>-37.5390</td>\n",
              "    </tr>\n",
              "    <tr>\n",
              "      <th>2</th>\n",
              "      <td>2014-03-01</td>\n",
              "      <td>483.5460</td>\n",
              "      <td>112.411</td>\n",
              "      <td>371.1350</td>\n",
              "    </tr>\n",
              "    <tr>\n",
              "      <th>3</th>\n",
              "      <td>2014-04-01</td>\n",
              "      <td>680.2520</td>\n",
              "      <td>483.546</td>\n",
              "      <td>196.7060</td>\n",
              "    </tr>\n",
              "    <tr>\n",
              "      <th>4</th>\n",
              "      <td>2014-05-01</td>\n",
              "      <td>504.8280</td>\n",
              "      <td>680.252</td>\n",
              "      <td>-175.4240</td>\n",
              "    </tr>\n",
              "    <tr>\n",
              "      <th>5</th>\n",
              "      <td>2014-06-01</td>\n",
              "      <td>656.0660</td>\n",
              "      <td>504.828</td>\n",
              "      <td>151.2380</td>\n",
              "    </tr>\n",
              "    <tr>\n",
              "      <th>6</th>\n",
              "      <td>2014-07-01</td>\n",
              "      <td>504.5860</td>\n",
              "      <td>656.066</td>\n",
              "      <td>-151.4800</td>\n",
              "    </tr>\n",
              "    <tr>\n",
              "      <th>7</th>\n",
              "      <td>2014-08-01</td>\n",
              "      <td>884.6660</td>\n",
              "      <td>504.586</td>\n",
              "      <td>380.0800</td>\n",
              "    </tr>\n",
              "    <tr>\n",
              "      <th>8</th>\n",
              "      <td>2014-09-01</td>\n",
              "      <td>947.6480</td>\n",
              "      <td>884.666</td>\n",
              "      <td>62.9820</td>\n",
              "    </tr>\n",
              "    <tr>\n",
              "      <th>9</th>\n",
              "      <td>2014-10-01</td>\n",
              "      <td>672.9930</td>\n",
              "      <td>947.648</td>\n",
              "      <td>-274.6550</td>\n",
              "    </tr>\n",
              "    <tr>\n",
              "      <th>10</th>\n",
              "      <td>2014-11-01</td>\n",
              "      <td>2202.8545</td>\n",
              "      <td>672.993</td>\n",
              "      <td>1529.8615</td>\n",
              "    </tr>\n",
              "  </tbody>\n",
              "</table>\n",
              "</div>\n",
              "      <button class=\"colab-df-convert\" onclick=\"convertToInteractive('df-062ac6a8-be20-4a6f-9fcc-ddb0cb8705b1')\"\n",
              "              title=\"Convert this dataframe to an interactive table.\"\n",
              "              style=\"display:none;\">\n",
              "        \n",
              "  <svg xmlns=\"http://www.w3.org/2000/svg\" height=\"24px\"viewBox=\"0 0 24 24\"\n",
              "       width=\"24px\">\n",
              "    <path d=\"M0 0h24v24H0V0z\" fill=\"none\"/>\n",
              "    <path d=\"M18.56 5.44l.94 2.06.94-2.06 2.06-.94-2.06-.94-.94-2.06-.94 2.06-2.06.94zm-11 1L8.5 8.5l.94-2.06 2.06-.94-2.06-.94L8.5 2.5l-.94 2.06-2.06.94zm10 10l.94 2.06.94-2.06 2.06-.94-2.06-.94-.94-2.06-.94 2.06-2.06.94z\"/><path d=\"M17.41 7.96l-1.37-1.37c-.4-.4-.92-.59-1.43-.59-.52 0-1.04.2-1.43.59L10.3 9.45l-7.72 7.72c-.78.78-.78 2.05 0 2.83L4 21.41c.39.39.9.59 1.41.59.51 0 1.02-.2 1.41-.59l7.78-7.78 2.81-2.81c.8-.78.8-2.07 0-2.86zM5.41 20L4 18.59l7.72-7.72 1.47 1.35L5.41 20z\"/>\n",
              "  </svg>\n",
              "      </button>\n",
              "      \n",
              "  <style>\n",
              "    .colab-df-container {\n",
              "      display:flex;\n",
              "      flex-wrap:wrap;\n",
              "      gap: 12px;\n",
              "    }\n",
              "\n",
              "    .colab-df-convert {\n",
              "      background-color: #E8F0FE;\n",
              "      border: none;\n",
              "      border-radius: 50%;\n",
              "      cursor: pointer;\n",
              "      display: none;\n",
              "      fill: #1967D2;\n",
              "      height: 32px;\n",
              "      padding: 0 0 0 0;\n",
              "      width: 32px;\n",
              "    }\n",
              "\n",
              "    .colab-df-convert:hover {\n",
              "      background-color: #E2EBFA;\n",
              "      box-shadow: 0px 1px 2px rgba(60, 64, 67, 0.3), 0px 1px 3px 1px rgba(60, 64, 67, 0.15);\n",
              "      fill: #174EA6;\n",
              "    }\n",
              "\n",
              "    [theme=dark] .colab-df-convert {\n",
              "      background-color: #3B4455;\n",
              "      fill: #D2E3FC;\n",
              "    }\n",
              "\n",
              "    [theme=dark] .colab-df-convert:hover {\n",
              "      background-color: #434B5C;\n",
              "      box-shadow: 0px 1px 3px 1px rgba(0, 0, 0, 0.15);\n",
              "      filter: drop-shadow(0px 1px 2px rgba(0, 0, 0, 0.3));\n",
              "      fill: #FFFFFF;\n",
              "    }\n",
              "  </style>\n",
              "\n",
              "      <script>\n",
              "        const buttonEl =\n",
              "          document.querySelector('#df-062ac6a8-be20-4a6f-9fcc-ddb0cb8705b1 button.colab-df-convert');\n",
              "        buttonEl.style.display =\n",
              "          google.colab.kernel.accessAllowed ? 'block' : 'none';\n",
              "\n",
              "        async function convertToInteractive(key) {\n",
              "          const element = document.querySelector('#df-062ac6a8-be20-4a6f-9fcc-ddb0cb8705b1');\n",
              "          const dataTable =\n",
              "            await google.colab.kernel.invokeFunction('convertToInteractive',\n",
              "                                                     [key], {});\n",
              "          if (!dataTable) return;\n",
              "\n",
              "          const docLinkHtml = 'Like what you see? Visit the ' +\n",
              "            '<a target=\"_blank\" href=https://colab.research.google.com/notebooks/data_table.ipynb>data table notebook</a>'\n",
              "            + ' to learn more about interactive tables.';\n",
              "          element.innerHTML = '';\n",
              "          dataTable['output_type'] = 'display_data';\n",
              "          await google.colab.output.renderOutput(dataTable, element);\n",
              "          const docLink = document.createElement('div');\n",
              "          docLink.innerHTML = docLinkHtml;\n",
              "          element.appendChild(docLink);\n",
              "        }\n",
              "      </script>\n",
              "    </div>\n",
              "  </div>\n",
              "  "
            ]
          },
          "metadata": {},
          "execution_count": 35
        }
      ]
    },
    {
      "cell_type": "markdown",
      "source": [
        "ADDING THE LAGS"
      ],
      "metadata": {
        "id": "zdAN39gahSDK"
      }
    },
    {
      "cell_type": "code",
      "source": [
        "df_supervised = df_diff.drop(['prev_sales'],axis=1)\n",
        "for inc in range(1,13):\n",
        "    field_name = 'lag_' + str(inc)\n",
        "    df_supervised[field_name] = df_supervised['diff'].shift(inc)\n",
        "df_supervised = df_supervised.dropna().reset_index(drop=True)"
      ],
      "metadata": {
        "id": "Ek_AskrHaG80"
      },
      "execution_count": 36,
      "outputs": []
    },
    {
      "cell_type": "code",
      "source": [
        "df_supervised.head(10)"
      ],
      "metadata": {
        "id": "ArfnOmIVaRnU",
        "outputId": "f3259d6d-99dd-4d35-b1fc-f3ef0174963a",
        "colab": {
          "base_uri": "https://localhost:8080/",
          "height": 363
        }
      },
      "execution_count": 11,
      "outputs": [
        {
          "output_type": "execute_result",
          "data": {
            "text/plain": [
              "        date     sales      diff     lag_1     lag_2     lag_3     lag_4  \\\n",
              "0 2014-01-25    38.660    13.412   -39.616  -313.730 -1641.965  1870.609   \n",
              "1 2014-01-26  2635.210  2596.550    13.412   -39.616  -313.730 -1641.965   \n",
              "2 2014-01-27     5.940 -2629.270  2596.550    13.412   -39.616  -313.730   \n",
              "3 2014-01-28    40.080    34.140 -2629.270  2596.550    13.412   -39.616   \n",
              "4 2014-01-29   152.640   112.560    34.140 -2629.270  2596.550    13.412   \n",
              "5 2014-01-31   944.610   791.970   112.560    34.140 -2629.270  2596.550   \n",
              "6 2014-02-02   717.336  -227.274   791.970   112.560    34.140 -2629.270   \n",
              "7 2014-02-03   472.828  -244.508  -227.274   791.970   112.560    34.140   \n",
              "8 2014-02-04   240.500  -232.328  -244.508  -227.274   791.970   112.560   \n",
              "9 2014-02-06   109.462  -131.038  -232.328  -244.508  -227.274   791.970   \n",
              "\n",
              "      lag_5     lag_6     lag_7     lag_8     lag_9    lag_10    lag_11  \\\n",
              "0  -395.990  -858.110  1394.110   -30.604   -66.150 -4268.186  4067.380   \n",
              "1  1870.609  -395.990  -858.110  1394.110   -30.604   -66.150 -4268.186   \n",
              "2 -1641.965  1870.609  -395.990  -858.110  1394.110   -30.604   -66.150   \n",
              "3  -313.730 -1641.965  1870.609  -395.990  -858.110  1394.110   -30.604   \n",
              "4   -39.616  -313.730 -1641.965  1870.609  -395.990  -858.110  1394.110   \n",
              "5    13.412   -39.616  -313.730 -1641.965  1870.609  -395.990  -858.110   \n",
              "6  2596.550    13.412   -39.616  -313.730 -1641.965  1870.609  -395.990   \n",
              "7 -2629.270  2596.550    13.412   -39.616  -313.730 -1641.965  1870.609   \n",
              "8    34.140 -2629.270  2596.550    13.412   -39.616  -313.730 -1641.965   \n",
              "9   112.560    34.140 -2629.270  2596.550    13.412   -39.616  -313.730   \n",
              "\n",
              "     lag_12  \n",
              "0   278.272  \n",
              "1  4067.380  \n",
              "2 -4268.186  \n",
              "3   -66.150  \n",
              "4   -30.604  \n",
              "5  1394.110  \n",
              "6  -858.110  \n",
              "7  -395.990  \n",
              "8  1870.609  \n",
              "9 -1641.965  "
            ],
            "text/html": [
              "\n",
              "  <div id=\"df-e66564f5-c454-45d6-bca5-df21f0054ff0\">\n",
              "    <div class=\"colab-df-container\">\n",
              "      <div>\n",
              "<style scoped>\n",
              "    .dataframe tbody tr th:only-of-type {\n",
              "        vertical-align: middle;\n",
              "    }\n",
              "\n",
              "    .dataframe tbody tr th {\n",
              "        vertical-align: top;\n",
              "    }\n",
              "\n",
              "    .dataframe thead th {\n",
              "        text-align: right;\n",
              "    }\n",
              "</style>\n",
              "<table border=\"1\" class=\"dataframe\">\n",
              "  <thead>\n",
              "    <tr style=\"text-align: right;\">\n",
              "      <th></th>\n",
              "      <th>date</th>\n",
              "      <th>sales</th>\n",
              "      <th>diff</th>\n",
              "      <th>lag_1</th>\n",
              "      <th>lag_2</th>\n",
              "      <th>lag_3</th>\n",
              "      <th>lag_4</th>\n",
              "      <th>lag_5</th>\n",
              "      <th>lag_6</th>\n",
              "      <th>lag_7</th>\n",
              "      <th>lag_8</th>\n",
              "      <th>lag_9</th>\n",
              "      <th>lag_10</th>\n",
              "      <th>lag_11</th>\n",
              "      <th>lag_12</th>\n",
              "    </tr>\n",
              "  </thead>\n",
              "  <tbody>\n",
              "    <tr>\n",
              "      <th>0</th>\n",
              "      <td>2014-01-25</td>\n",
              "      <td>38.660</td>\n",
              "      <td>13.412</td>\n",
              "      <td>-39.616</td>\n",
              "      <td>-313.730</td>\n",
              "      <td>-1641.965</td>\n",
              "      <td>1870.609</td>\n",
              "      <td>-395.990</td>\n",
              "      <td>-858.110</td>\n",
              "      <td>1394.110</td>\n",
              "      <td>-30.604</td>\n",
              "      <td>-66.150</td>\n",
              "      <td>-4268.186</td>\n",
              "      <td>4067.380</td>\n",
              "      <td>278.272</td>\n",
              "    </tr>\n",
              "    <tr>\n",
              "      <th>1</th>\n",
              "      <td>2014-01-26</td>\n",
              "      <td>2635.210</td>\n",
              "      <td>2596.550</td>\n",
              "      <td>13.412</td>\n",
              "      <td>-39.616</td>\n",
              "      <td>-313.730</td>\n",
              "      <td>-1641.965</td>\n",
              "      <td>1870.609</td>\n",
              "      <td>-395.990</td>\n",
              "      <td>-858.110</td>\n",
              "      <td>1394.110</td>\n",
              "      <td>-30.604</td>\n",
              "      <td>-66.150</td>\n",
              "      <td>-4268.186</td>\n",
              "      <td>4067.380</td>\n",
              "    </tr>\n",
              "    <tr>\n",
              "      <th>2</th>\n",
              "      <td>2014-01-27</td>\n",
              "      <td>5.940</td>\n",
              "      <td>-2629.270</td>\n",
              "      <td>2596.550</td>\n",
              "      <td>13.412</td>\n",
              "      <td>-39.616</td>\n",
              "      <td>-313.730</td>\n",
              "      <td>-1641.965</td>\n",
              "      <td>1870.609</td>\n",
              "      <td>-395.990</td>\n",
              "      <td>-858.110</td>\n",
              "      <td>1394.110</td>\n",
              "      <td>-30.604</td>\n",
              "      <td>-66.150</td>\n",
              "      <td>-4268.186</td>\n",
              "    </tr>\n",
              "    <tr>\n",
              "      <th>3</th>\n",
              "      <td>2014-01-28</td>\n",
              "      <td>40.080</td>\n",
              "      <td>34.140</td>\n",
              "      <td>-2629.270</td>\n",
              "      <td>2596.550</td>\n",
              "      <td>13.412</td>\n",
              "      <td>-39.616</td>\n",
              "      <td>-313.730</td>\n",
              "      <td>-1641.965</td>\n",
              "      <td>1870.609</td>\n",
              "      <td>-395.990</td>\n",
              "      <td>-858.110</td>\n",
              "      <td>1394.110</td>\n",
              "      <td>-30.604</td>\n",
              "      <td>-66.150</td>\n",
              "    </tr>\n",
              "    <tr>\n",
              "      <th>4</th>\n",
              "      <td>2014-01-29</td>\n",
              "      <td>152.640</td>\n",
              "      <td>112.560</td>\n",
              "      <td>34.140</td>\n",
              "      <td>-2629.270</td>\n",
              "      <td>2596.550</td>\n",
              "      <td>13.412</td>\n",
              "      <td>-39.616</td>\n",
              "      <td>-313.730</td>\n",
              "      <td>-1641.965</td>\n",
              "      <td>1870.609</td>\n",
              "      <td>-395.990</td>\n",
              "      <td>-858.110</td>\n",
              "      <td>1394.110</td>\n",
              "      <td>-30.604</td>\n",
              "    </tr>\n",
              "    <tr>\n",
              "      <th>5</th>\n",
              "      <td>2014-01-31</td>\n",
              "      <td>944.610</td>\n",
              "      <td>791.970</td>\n",
              "      <td>112.560</td>\n",
              "      <td>34.140</td>\n",
              "      <td>-2629.270</td>\n",
              "      <td>2596.550</td>\n",
              "      <td>13.412</td>\n",
              "      <td>-39.616</td>\n",
              "      <td>-313.730</td>\n",
              "      <td>-1641.965</td>\n",
              "      <td>1870.609</td>\n",
              "      <td>-395.990</td>\n",
              "      <td>-858.110</td>\n",
              "      <td>1394.110</td>\n",
              "    </tr>\n",
              "    <tr>\n",
              "      <th>6</th>\n",
              "      <td>2014-02-02</td>\n",
              "      <td>717.336</td>\n",
              "      <td>-227.274</td>\n",
              "      <td>791.970</td>\n",
              "      <td>112.560</td>\n",
              "      <td>34.140</td>\n",
              "      <td>-2629.270</td>\n",
              "      <td>2596.550</td>\n",
              "      <td>13.412</td>\n",
              "      <td>-39.616</td>\n",
              "      <td>-313.730</td>\n",
              "      <td>-1641.965</td>\n",
              "      <td>1870.609</td>\n",
              "      <td>-395.990</td>\n",
              "      <td>-858.110</td>\n",
              "    </tr>\n",
              "    <tr>\n",
              "      <th>7</th>\n",
              "      <td>2014-02-03</td>\n",
              "      <td>472.828</td>\n",
              "      <td>-244.508</td>\n",
              "      <td>-227.274</td>\n",
              "      <td>791.970</td>\n",
              "      <td>112.560</td>\n",
              "      <td>34.140</td>\n",
              "      <td>-2629.270</td>\n",
              "      <td>2596.550</td>\n",
              "      <td>13.412</td>\n",
              "      <td>-39.616</td>\n",
              "      <td>-313.730</td>\n",
              "      <td>-1641.965</td>\n",
              "      <td>1870.609</td>\n",
              "      <td>-395.990</td>\n",
              "    </tr>\n",
              "    <tr>\n",
              "      <th>8</th>\n",
              "      <td>2014-02-04</td>\n",
              "      <td>240.500</td>\n",
              "      <td>-232.328</td>\n",
              "      <td>-244.508</td>\n",
              "      <td>-227.274</td>\n",
              "      <td>791.970</td>\n",
              "      <td>112.560</td>\n",
              "      <td>34.140</td>\n",
              "      <td>-2629.270</td>\n",
              "      <td>2596.550</td>\n",
              "      <td>13.412</td>\n",
              "      <td>-39.616</td>\n",
              "      <td>-313.730</td>\n",
              "      <td>-1641.965</td>\n",
              "      <td>1870.609</td>\n",
              "    </tr>\n",
              "    <tr>\n",
              "      <th>9</th>\n",
              "      <td>2014-02-06</td>\n",
              "      <td>109.462</td>\n",
              "      <td>-131.038</td>\n",
              "      <td>-232.328</td>\n",
              "      <td>-244.508</td>\n",
              "      <td>-227.274</td>\n",
              "      <td>791.970</td>\n",
              "      <td>112.560</td>\n",
              "      <td>34.140</td>\n",
              "      <td>-2629.270</td>\n",
              "      <td>2596.550</td>\n",
              "      <td>13.412</td>\n",
              "      <td>-39.616</td>\n",
              "      <td>-313.730</td>\n",
              "      <td>-1641.965</td>\n",
              "    </tr>\n",
              "  </tbody>\n",
              "</table>\n",
              "</div>\n",
              "      <button class=\"colab-df-convert\" onclick=\"convertToInteractive('df-e66564f5-c454-45d6-bca5-df21f0054ff0')\"\n",
              "              title=\"Convert this dataframe to an interactive table.\"\n",
              "              style=\"display:none;\">\n",
              "        \n",
              "  <svg xmlns=\"http://www.w3.org/2000/svg\" height=\"24px\"viewBox=\"0 0 24 24\"\n",
              "       width=\"24px\">\n",
              "    <path d=\"M0 0h24v24H0V0z\" fill=\"none\"/>\n",
              "    <path d=\"M18.56 5.44l.94 2.06.94-2.06 2.06-.94-2.06-.94-.94-2.06-.94 2.06-2.06.94zm-11 1L8.5 8.5l.94-2.06 2.06-.94-2.06-.94L8.5 2.5l-.94 2.06-2.06.94zm10 10l.94 2.06.94-2.06 2.06-.94-2.06-.94-.94-2.06-.94 2.06-2.06.94z\"/><path d=\"M17.41 7.96l-1.37-1.37c-.4-.4-.92-.59-1.43-.59-.52 0-1.04.2-1.43.59L10.3 9.45l-7.72 7.72c-.78.78-.78 2.05 0 2.83L4 21.41c.39.39.9.59 1.41.59.51 0 1.02-.2 1.41-.59l7.78-7.78 2.81-2.81c.8-.78.8-2.07 0-2.86zM5.41 20L4 18.59l7.72-7.72 1.47 1.35L5.41 20z\"/>\n",
              "  </svg>\n",
              "      </button>\n",
              "      \n",
              "  <style>\n",
              "    .colab-df-container {\n",
              "      display:flex;\n",
              "      flex-wrap:wrap;\n",
              "      gap: 12px;\n",
              "    }\n",
              "\n",
              "    .colab-df-convert {\n",
              "      background-color: #E8F0FE;\n",
              "      border: none;\n",
              "      border-radius: 50%;\n",
              "      cursor: pointer;\n",
              "      display: none;\n",
              "      fill: #1967D2;\n",
              "      height: 32px;\n",
              "      padding: 0 0 0 0;\n",
              "      width: 32px;\n",
              "    }\n",
              "\n",
              "    .colab-df-convert:hover {\n",
              "      background-color: #E2EBFA;\n",
              "      box-shadow: 0px 1px 2px rgba(60, 64, 67, 0.3), 0px 1px 3px 1px rgba(60, 64, 67, 0.15);\n",
              "      fill: #174EA6;\n",
              "    }\n",
              "\n",
              "    [theme=dark] .colab-df-convert {\n",
              "      background-color: #3B4455;\n",
              "      fill: #D2E3FC;\n",
              "    }\n",
              "\n",
              "    [theme=dark] .colab-df-convert:hover {\n",
              "      background-color: #434B5C;\n",
              "      box-shadow: 0px 1px 3px 1px rgba(0, 0, 0, 0.15);\n",
              "      filter: drop-shadow(0px 1px 2px rgba(0, 0, 0, 0.3));\n",
              "      fill: #FFFFFF;\n",
              "    }\n",
              "  </style>\n",
              "\n",
              "      <script>\n",
              "        const buttonEl =\n",
              "          document.querySelector('#df-e66564f5-c454-45d6-bca5-df21f0054ff0 button.colab-df-convert');\n",
              "        buttonEl.style.display =\n",
              "          google.colab.kernel.accessAllowed ? 'block' : 'none';\n",
              "\n",
              "        async function convertToInteractive(key) {\n",
              "          const element = document.querySelector('#df-e66564f5-c454-45d6-bca5-df21f0054ff0');\n",
              "          const dataTable =\n",
              "            await google.colab.kernel.invokeFunction('convertToInteractive',\n",
              "                                                     [key], {});\n",
              "          if (!dataTable) return;\n",
              "\n",
              "          const docLinkHtml = 'Like what you see? Visit the ' +\n",
              "            '<a target=\"_blank\" href=https://colab.research.google.com/notebooks/data_table.ipynb>data table notebook</a>'\n",
              "            + ' to learn more about interactive tables.';\n",
              "          element.innerHTML = '';\n",
              "          dataTable['output_type'] = 'display_data';\n",
              "          await google.colab.output.renderOutput(dataTable, element);\n",
              "          const docLink = document.createElement('div');\n",
              "          docLink.innerHTML = docLinkHtml;\n",
              "          element.appendChild(docLink);\n",
              "        }\n",
              "      </script>\n",
              "    </div>\n",
              "  </div>\n",
              "  "
            ]
          },
          "metadata": {},
          "execution_count": 11
        }
      ]
    },
    {
      "cell_type": "code",
      "source": [
        "len(df_supervised)"
      ],
      "metadata": {
        "id": "UjCi0Ua-d77V",
        "outputId": "dbd9ae6b-f650-410c-e373-414b3c55e426",
        "colab": {
          "base_uri": "https://localhost:8080/"
        }
      },
      "execution_count": 37,
      "outputs": [
        {
          "output_type": "execute_result",
          "data": {
            "text/plain": [
              "36"
            ]
          },
          "metadata": {},
          "execution_count": 37
        }
      ]
    },
    {
      "cell_type": "code",
      "source": [
        "df_model = df_supervised.drop(['date','sales'],axis=1)\n",
        "train_set, test_set = df_model[0:-6].values, df_model[-6:].values"
      ],
      "metadata": {
        "id": "hOp23oYwaWiO"
      },
      "execution_count": 38,
      "outputs": []
    },
    {
      "cell_type": "markdown",
      "source": [
        "MAKING USE OF MIN MAX SCALER"
      ],
      "metadata": {
        "id": "1yh1GS3zhVZK"
      }
    },
    {
      "cell_type": "code",
      "source": [
        "scaler = MinMaxScaler(feature_range=(-1, 1))\n",
        "scaler = scaler.fit(train_set)\n",
        "train_set = train_set.reshape(train_set.shape[0], train_set.shape[1])\n",
        "train_set_scaled = scaler.transform(train_set)\n",
        "test_set = test_set.reshape(test_set.shape[0], test_set.shape[1])\n",
        "test_set_scaled = scaler.transform(test_set)"
      ],
      "metadata": {
        "id": "wrvy30SYaqhd"
      },
      "execution_count": 39,
      "outputs": []
    },
    {
      "cell_type": "code",
      "source": [
        "X_train, y_train = train_set_scaled[:, 1:], train_set_scaled[:, 0:1]\n",
        "X_train = X_train.reshape(X_train.shape[0], 1, X_train.shape[1])\n",
        "X_test, y_test = test_set_scaled[:, 1:], test_set_scaled[:, 0:1]\n",
        "X_test = X_test.reshape(X_test.shape[0], 1, X_test.shape[1])"
      ],
      "metadata": {
        "id": "Qci_EQ96auYq"
      },
      "execution_count": 40,
      "outputs": []
    },
    {
      "cell_type": "markdown",
      "source": [
        "LSTM BUILDING AND TRAINING"
      ],
      "metadata": {
        "id": "fYyg3fUbhbAn"
      }
    },
    {
      "cell_type": "code",
      "source": [
        "model = Sequential()\n",
        "model.add(LSTM(4, batch_input_shape=(1, X_train.shape[1], X_train.shape[2]), stateful=True))\n",
        "model.add(Dense(1))\n",
        "model.compile(loss='mean_squared_error', optimizer='adam')\n",
        "model.fit(X_train, y_train, epochs=100, batch_size=1, verbose=1, shuffle=False)"
      ],
      "metadata": {
        "id": "mBZ6Uygzaxnn",
        "outputId": "b1323af1-c6ed-4610-be34-e7f0cfdde345",
        "colab": {
          "base_uri": "https://localhost:8080/"
        }
      },
      "execution_count": 41,
      "outputs": [
        {
          "output_type": "stream",
          "name": "stdout",
          "text": [
            "Epoch 1/100\n",
            "30/30 [==============================] - 2s 2ms/step - loss: 0.1702\n",
            "Epoch 2/100\n",
            "30/30 [==============================] - 0s 2ms/step - loss: 0.1624\n",
            "Epoch 3/100\n",
            "30/30 [==============================] - 0s 3ms/step - loss: 0.1573\n",
            "Epoch 4/100\n",
            "30/30 [==============================] - 0s 3ms/step - loss: 0.1528\n",
            "Epoch 5/100\n",
            "30/30 [==============================] - 0s 3ms/step - loss: 0.1486\n",
            "Epoch 6/100\n",
            "30/30 [==============================] - 0s 3ms/step - loss: 0.1447\n",
            "Epoch 7/100\n",
            "30/30 [==============================] - 0s 2ms/step - loss: 0.1409\n",
            "Epoch 8/100\n",
            "30/30 [==============================] - 0s 2ms/step - loss: 0.1372\n",
            "Epoch 9/100\n",
            "30/30 [==============================] - 0s 2ms/step - loss: 0.1336\n",
            "Epoch 10/100\n",
            "30/30 [==============================] - 0s 2ms/step - loss: 0.1300\n",
            "Epoch 11/100\n",
            "30/30 [==============================] - 0s 3ms/step - loss: 0.1264\n",
            "Epoch 12/100\n",
            "30/30 [==============================] - 0s 2ms/step - loss: 0.1228\n",
            "Epoch 13/100\n",
            "30/30 [==============================] - 0s 2ms/step - loss: 0.1192\n",
            "Epoch 14/100\n",
            "30/30 [==============================] - 0s 2ms/step - loss: 0.1156\n",
            "Epoch 15/100\n",
            "30/30 [==============================] - 0s 3ms/step - loss: 0.1121\n",
            "Epoch 16/100\n",
            "30/30 [==============================] - 0s 3ms/step - loss: 0.1085\n",
            "Epoch 17/100\n",
            "30/30 [==============================] - 0s 2ms/step - loss: 0.1050\n",
            "Epoch 18/100\n",
            "30/30 [==============================] - 0s 3ms/step - loss: 0.1015\n",
            "Epoch 19/100\n",
            "30/30 [==============================] - 0s 3ms/step - loss: 0.0980\n",
            "Epoch 20/100\n",
            "30/30 [==============================] - 0s 2ms/step - loss: 0.0947\n",
            "Epoch 21/100\n",
            "30/30 [==============================] - 0s 2ms/step - loss: 0.0915\n",
            "Epoch 22/100\n",
            "30/30 [==============================] - 0s 2ms/step - loss: 0.0883\n",
            "Epoch 23/100\n",
            "30/30 [==============================] - 0s 2ms/step - loss: 0.0853\n",
            "Epoch 24/100\n",
            "30/30 [==============================] - 0s 2ms/step - loss: 0.0825\n",
            "Epoch 25/100\n",
            "30/30 [==============================] - 0s 2ms/step - loss: 0.0798\n",
            "Epoch 26/100\n",
            "30/30 [==============================] - 0s 3ms/step - loss: 0.0772\n",
            "Epoch 27/100\n",
            "30/30 [==============================] - 0s 3ms/step - loss: 0.0748\n",
            "Epoch 28/100\n",
            "30/30 [==============================] - 0s 3ms/step - loss: 0.0725\n",
            "Epoch 29/100\n",
            "30/30 [==============================] - 0s 2ms/step - loss: 0.0704\n",
            "Epoch 30/100\n",
            "30/30 [==============================] - 0s 3ms/step - loss: 0.0684\n",
            "Epoch 31/100\n",
            "30/30 [==============================] - 0s 3ms/step - loss: 0.0666\n",
            "Epoch 32/100\n",
            "30/30 [==============================] - 0s 4ms/step - loss: 0.0648\n",
            "Epoch 33/100\n",
            "30/30 [==============================] - 0s 3ms/step - loss: 0.0632\n",
            "Epoch 34/100\n",
            "30/30 [==============================] - 0s 2ms/step - loss: 0.0617\n",
            "Epoch 35/100\n",
            "30/30 [==============================] - 0s 2ms/step - loss: 0.0602\n",
            "Epoch 36/100\n",
            "30/30 [==============================] - 0s 3ms/step - loss: 0.0589\n",
            "Epoch 37/100\n",
            "30/30 [==============================] - 0s 2ms/step - loss: 0.0576\n",
            "Epoch 38/100\n",
            "30/30 [==============================] - 0s 2ms/step - loss: 0.0564\n",
            "Epoch 39/100\n",
            "30/30 [==============================] - 0s 3ms/step - loss: 0.0553\n",
            "Epoch 40/100\n",
            "30/30 [==============================] - 0s 3ms/step - loss: 0.0542\n",
            "Epoch 41/100\n",
            "30/30 [==============================] - 0s 3ms/step - loss: 0.0532\n",
            "Epoch 42/100\n",
            "30/30 [==============================] - 0s 3ms/step - loss: 0.0522\n",
            "Epoch 43/100\n",
            "30/30 [==============================] - 0s 2ms/step - loss: 0.0512\n",
            "Epoch 44/100\n",
            "30/30 [==============================] - 0s 2ms/step - loss: 0.0503\n",
            "Epoch 45/100\n",
            "30/30 [==============================] - 0s 2ms/step - loss: 0.0494\n",
            "Epoch 46/100\n",
            "30/30 [==============================] - 0s 2ms/step - loss: 0.0486\n",
            "Epoch 47/100\n",
            "30/30 [==============================] - 0s 3ms/step - loss: 0.0478\n",
            "Epoch 48/100\n",
            "30/30 [==============================] - 0s 2ms/step - loss: 0.0470\n",
            "Epoch 49/100\n",
            "30/30 [==============================] - 0s 2ms/step - loss: 0.0462\n",
            "Epoch 50/100\n",
            "30/30 [==============================] - 0s 2ms/step - loss: 0.0455\n",
            "Epoch 51/100\n",
            "30/30 [==============================] - 0s 3ms/step - loss: 0.0448\n",
            "Epoch 52/100\n",
            "30/30 [==============================] - 0s 2ms/step - loss: 0.0441\n",
            "Epoch 53/100\n",
            "30/30 [==============================] - 0s 3ms/step - loss: 0.0434\n",
            "Epoch 54/100\n",
            "30/30 [==============================] - 0s 2ms/step - loss: 0.0427\n",
            "Epoch 55/100\n",
            "30/30 [==============================] - 0s 2ms/step - loss: 0.0421\n",
            "Epoch 56/100\n",
            "30/30 [==============================] - 0s 2ms/step - loss: 0.0415\n",
            "Epoch 57/100\n",
            "30/30 [==============================] - 0s 2ms/step - loss: 0.0408\n",
            "Epoch 58/100\n",
            "30/30 [==============================] - 0s 3ms/step - loss: 0.0402\n",
            "Epoch 59/100\n",
            "30/30 [==============================] - 0s 2ms/step - loss: 0.0396\n",
            "Epoch 60/100\n",
            "30/30 [==============================] - 0s 2ms/step - loss: 0.0391\n",
            "Epoch 61/100\n",
            "30/30 [==============================] - 0s 2ms/step - loss: 0.0385\n",
            "Epoch 62/100\n",
            "30/30 [==============================] - 0s 2ms/step - loss: 0.0379\n",
            "Epoch 63/100\n",
            "30/30 [==============================] - 0s 3ms/step - loss: 0.0374\n",
            "Epoch 64/100\n",
            "30/30 [==============================] - 0s 2ms/step - loss: 0.0368\n",
            "Epoch 65/100\n",
            "30/30 [==============================] - 0s 2ms/step - loss: 0.0363\n",
            "Epoch 66/100\n",
            "30/30 [==============================] - 0s 2ms/step - loss: 0.0358\n",
            "Epoch 67/100\n",
            "30/30 [==============================] - 0s 2ms/step - loss: 0.0353\n",
            "Epoch 68/100\n",
            "30/30 [==============================] - 0s 2ms/step - loss: 0.0348\n",
            "Epoch 69/100\n",
            "30/30 [==============================] - 0s 3ms/step - loss: 0.0343\n",
            "Epoch 70/100\n",
            "30/30 [==============================] - 0s 2ms/step - loss: 0.0338\n",
            "Epoch 71/100\n",
            "30/30 [==============================] - 0s 2ms/step - loss: 0.0333\n",
            "Epoch 72/100\n",
            "30/30 [==============================] - 0s 2ms/step - loss: 0.0328\n",
            "Epoch 73/100\n",
            "30/30 [==============================] - 0s 3ms/step - loss: 0.0323\n",
            "Epoch 74/100\n",
            "30/30 [==============================] - 0s 2ms/step - loss: 0.0319\n",
            "Epoch 75/100\n",
            "30/30 [==============================] - 0s 3ms/step - loss: 0.0314\n",
            "Epoch 76/100\n",
            "30/30 [==============================] - 0s 2ms/step - loss: 0.0309\n",
            "Epoch 77/100\n",
            "30/30 [==============================] - 0s 2ms/step - loss: 0.0305\n",
            "Epoch 78/100\n",
            "30/30 [==============================] - 0s 2ms/step - loss: 0.0300\n",
            "Epoch 79/100\n",
            "30/30 [==============================] - 0s 2ms/step - loss: 0.0296\n",
            "Epoch 80/100\n",
            "30/30 [==============================] - 0s 2ms/step - loss: 0.0292\n",
            "Epoch 81/100\n",
            "30/30 [==============================] - 0s 2ms/step - loss: 0.0287\n",
            "Epoch 82/100\n",
            "30/30 [==============================] - 0s 2ms/step - loss: 0.0283\n",
            "Epoch 83/100\n",
            "30/30 [==============================] - 0s 2ms/step - loss: 0.0279\n",
            "Epoch 84/100\n",
            "30/30 [==============================] - 0s 2ms/step - loss: 0.0275\n",
            "Epoch 85/100\n",
            "30/30 [==============================] - 0s 3ms/step - loss: 0.0270\n",
            "Epoch 86/100\n",
            "30/30 [==============================] - 0s 2ms/step - loss: 0.0266\n",
            "Epoch 87/100\n",
            "30/30 [==============================] - 0s 3ms/step - loss: 0.0262\n",
            "Epoch 88/100\n",
            "30/30 [==============================] - 0s 2ms/step - loss: 0.0258\n",
            "Epoch 89/100\n",
            "30/30 [==============================] - 0s 2ms/step - loss: 0.0254\n",
            "Epoch 90/100\n",
            "30/30 [==============================] - 0s 2ms/step - loss: 0.0250\n",
            "Epoch 91/100\n",
            "30/30 [==============================] - 0s 2ms/step - loss: 0.0246\n",
            "Epoch 92/100\n",
            "30/30 [==============================] - 0s 2ms/step - loss: 0.0242\n",
            "Epoch 93/100\n",
            "30/30 [==============================] - 0s 2ms/step - loss: 0.0238\n",
            "Epoch 94/100\n",
            "30/30 [==============================] - 0s 2ms/step - loss: 0.0234\n",
            "Epoch 95/100\n",
            "30/30 [==============================] - 0s 2ms/step - loss: 0.0231\n",
            "Epoch 96/100\n",
            "30/30 [==============================] - 0s 2ms/step - loss: 0.0227\n",
            "Epoch 97/100\n",
            "30/30 [==============================] - 0s 2ms/step - loss: 0.0223\n",
            "Epoch 98/100\n",
            "30/30 [==============================] - 0s 2ms/step - loss: 0.0219\n",
            "Epoch 99/100\n",
            "30/30 [==============================] - 0s 3ms/step - loss: 0.0215\n",
            "Epoch 100/100\n",
            "30/30 [==============================] - 0s 3ms/step - loss: 0.0212\n"
          ]
        },
        {
          "output_type": "execute_result",
          "data": {
            "text/plain": [
              "<keras.callbacks.History at 0x7fc798f23e50>"
            ]
          },
          "metadata": {},
          "execution_count": 41
        }
      ]
    },
    {
      "cell_type": "markdown",
      "source": [
        "PREDICT"
      ],
      "metadata": {
        "id": "poXs1Azwhcum"
      }
    },
    {
      "cell_type": "code",
      "source": [
        "y_pred = model.predict(X_test,batch_size=1)\n",
        "y_pred"
      ],
      "metadata": {
        "id": "PhiRl63obUBT",
        "outputId": "e2be41ad-a969-476b-cc8d-8ea77ff93b55",
        "colab": {
          "base_uri": "https://localhost:8080/"
        }
      },
      "execution_count": 42,
      "outputs": [
        {
          "output_type": "execute_result",
          "data": {
            "text/plain": [
              "array([[ 0.03235635],\n",
              "       [ 0.6483784 ],\n",
              "       [-0.88973725],\n",
              "       [ 0.4425379 ],\n",
              "       [ 1.0209774 ],\n",
              "       [-0.6884754 ]], dtype=float32)"
            ]
          },
          "metadata": {},
          "execution_count": 42
        }
      ]
    },
    {
      "cell_type": "markdown",
      "source": [
        "ERROR CALCULATION"
      ],
      "metadata": {
        "id": "AOJshqe8hjW9"
      }
    },
    {
      "cell_type": "code",
      "source": [
        "def forecast_accuracy(forecast, actual):\n",
        "    mape = np.mean(np.abs(forecast - actual)/np.abs(actual))  # MAPE\n",
        "    me = np.mean(forecast - actual)             # ME\n",
        "    mae = np.mean(np.abs(forecast - actual))    # MAE\n",
        "    mpe = np.mean((forecast - actual)/actual)   # MPE\n",
        "    rmse = np.mean((forecast - actual)**2)**.5  # RMSE\n",
        "    mins = np.amin(np.hstack([forecast[:,None], \n",
        "                              actual[:,None]]), axis=1)\n",
        "    maxs = np.amax(np.hstack([forecast[:,None], \n",
        "                              actual[:,None]]), axis=1)\n",
        "    minmax = 1 - np.mean(mins/maxs)             # minmax                   # ACF1\n",
        "    return({'mape':mape, 'me':me, 'mae': mae, \n",
        "            'mpe': mpe, 'rmse':rmse, \n",
        "             'minmax':minmax})\n",
        "forecast_accuracy(y_pred,y_test)"
      ],
      "metadata": {
        "id": "_hjyJe2Cafqu",
        "outputId": "0c3b2928-6e68-4d1b-d254-0e417c998026",
        "colab": {
          "base_uri": "https://localhost:8080/"
        }
      },
      "execution_count": 43,
      "outputs": [
        {
          "output_type": "execute_result",
          "data": {
            "text/plain": [
              "{'mae': 0.2806108488964593,\n",
              " 'mape': 0.5588494213310115,\n",
              " 'me': -0.011484961670662005,\n",
              " 'minmax': 0.22699336032397888,\n",
              " 'mpe': 0.025171381989672215,\n",
              " 'rmse': 0.3217844145850354}"
            ]
          },
          "metadata": {},
          "execution_count": 43
        }
      ]
    },
    {
      "cell_type": "markdown",
      "source": [
        "DATA FRAME FORMATION"
      ],
      "metadata": {
        "id": "9qaKhIb5hl5u"
      }
    },
    {
      "cell_type": "code",
      "source": [
        "y_pred = y_pred.reshape(y_pred.shape[0], 1, y_pred.shape[1])\n",
        "pred_test_set = []\n",
        "for index in range(0,len(y_pred)):\n",
        "    print(np.concatenate([y_pred[index],X_test[index]],axis=1))\n",
        "    pred_test_set.append(np.concatenate([y_pred[index],X_test[index]],axis=1))\n",
        "pred_test_set = np.array(pred_test_set)\n",
        "pred_test_set = pred_test_set.reshape(pred_test_set.shape[0], pred_test_set.shape[2])\n",
        "pred_test_set_inverted = scaler.inverse_transform(pred_test_set)"
      ],
      "metadata": {
        "id": "sHor0EF9bhSY",
        "outputId": "4b45d58d-b481-4296-d8f1-7cb2535ad25c",
        "colab": {
          "base_uri": "https://localhost:8080/"
        }
      },
      "execution_count": 44,
      "outputs": [
        {
          "output_type": "stream",
          "name": "stdout",
          "text": [
            "[[ 0.03235635  0.15306959  0.0969      0.31223718  0.06080036  0.33473855\n",
            "   0.20749561 -1.49691772  0.50156855  0.80504878 -1.17023556  0.73690758\n",
            "  -0.26465099]]\n",
            "[[ 0.64837837  0.3707856   0.15306959  0.0969      0.31223718  0.06080036\n",
            "   0.33473855  0.01059088 -1.49691772  0.50156855  0.78845496 -1.17023556\n",
            "   0.73690758]]\n",
            "[[-0.88973725  0.85295326  0.3707856   0.15306959  0.0969      0.31223718\n",
            "   0.06080036  0.16944845  0.01059088 -1.49691772  0.45914317  0.78845496\n",
            "  -1.17023556]]\n",
            "[[ 0.4425379  -0.68132225  0.85295326  0.3707856   0.15306959  0.0969\n",
            "   0.31223718 -0.1725521   0.16944845  0.01059088 -1.70944981  0.45914317\n",
            "   0.78845496]]\n",
            "[[ 1.02097738  0.5674062  -0.68132225  0.85295326  0.3707856   0.15306959\n",
            "   0.0969      0.14135642 -0.1725521   0.16944845 -0.07362543 -1.70944981\n",
            "   0.45914317]]\n",
            "[[-0.68847537  0.41737886  0.5674062  -0.68132225  0.85295326  0.3707856\n",
            "   0.15306959 -0.1274832   0.14135642 -0.1725521   0.09875375 -0.07362543\n",
            "  -1.70944981]]\n"
          ]
        }
      ]
    },
    {
      "cell_type": "code",
      "source": [
        "result_list = []\n",
        "sales_dates = list(data1[-7:].date)\n",
        "act_sales = list(data1[-7:].sales)\n",
        "for index in range(0,len(pred_test_set_inverted)):\n",
        "    result_dict = {}\n",
        "    result_dict['pred_value'] = int(pred_test_set_inverted[index][0] + act_sales[index])\n",
        "    result_dict['date'] = sales_dates[index+1]\n",
        "    result_list.append(result_dict)\n",
        "df_result = pd.DataFrame(result_list)"
      ],
      "metadata": {
        "id": "voomZszOb39Z"
      },
      "execution_count": 45,
      "outputs": []
    },
    {
      "cell_type": "code",
      "source": [
        "data2 = data1.copy()\n",
        "df_re = df_result.copy()\n",
        "data2  = data2.set_index('date')\n",
        "df_re = df_re.set_index('date')"
      ],
      "metadata": {
        "id": "95XQDKtO6nEd"
      },
      "execution_count": 46,
      "outputs": []
    },
    {
      "cell_type": "markdown",
      "source": [
        "PLOTING"
      ],
      "metadata": {
        "id": "Z_fdN_OihpNt"
      }
    },
    {
      "cell_type": "code",
      "source": [
        "import matplotlib.pyplot as plt\n",
        "data2['sales'].plot(figsize=(15,5))\n",
        "df_re['pred_value'].plot()\n",
        "plt.show()"
      ],
      "metadata": {
        "id": "xUAEEWE65zcj",
        "outputId": "cdb5c7f2-cdbc-4e17-922b-3d8293c79ffd",
        "colab": {
          "base_uri": "https://localhost:8080/",
          "height": 334
        }
      },
      "execution_count": 47,
      "outputs": [
        {
          "output_type": "display_data",
          "data": {
            "text/plain": [
              "<Figure size 1080x360 with 1 Axes>"
            ],
            "image/png": "[encoded data removed]"
          },
          "metadata": {
            "needs_background": "light"
          }
        }
      ]
    }
  ]
}