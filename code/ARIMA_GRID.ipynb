{
  "nbformat": 4,
  "nbformat_minor": 0,
  "metadata": {
    "colab": {
      "name": "ARIMA_GRID.ipynb",
      "provenance": [],
      "include_colab_link": true
    },
    "kernelspec": {
      "name": "python3",
      "display_name": "Python 3"
    },
    "language_info": {
      "name": "python"
    }
  },
  "cells": [
    {
      "cell_type": "markdown",
      "metadata": {
        "id": "view-in-github",
        "colab_type": "text"
      },
      "source": [
        "<a href=\"https://colab.research.google.com/github/SriNithin965/project-4-2/blob/main/code/ARIMA_GRID.ipynb\" target=\"_parent\"><img src=\"https://colab.research.google.com/assets/colab-badge.svg\" alt=\"Open In Colab\"/></a>"
      ]
    },
    {
      "cell_type": "markdown",
      "source": [
        "*PACKAGES INSTALLING*"
      ],
      "metadata": {
        "id": "hbVP288qpT8n"
      }
    },
    {
      "cell_type": "code",
      "execution_count": 1,
      "metadata": {
        "colab": {
          "base_uri": "https://localhost:8080/"
        },
        "id": "v9EgnET_kImY",
        "outputId": "a25ae51e-6152-4b4b-8499-4f0af29e6621"
      },
      "outputs": [
        {
          "output_type": "stream",
          "name": "stdout",
          "text": [
            "Looking in indexes: https://pypi.org/simple, https://us-python.pkg.dev/colab-wheels/public/simple/\n",
            "Collecting pandas==1.2.0\n",
            "  Downloading pandas-1.2.0-cp37-cp37m-manylinux1_x86_64.whl (9.9 MB)\n",
            "\u001b[K     |████████████████████████████████| 9.9 MB 5.1 MB/s \n",
            "\u001b[?25hRequirement already satisfied: pytz>=2017.3 in /usr/local/lib/python3.7/dist-packages (from pandas==1.2.0) (2022.1)\n",
            "Requirement already satisfied: python-dateutil>=2.7.3 in /usr/local/lib/python3.7/dist-packages (from pandas==1.2.0) (2.8.2)\n",
            "Requirement already satisfied: numpy>=1.16.5 in /usr/local/lib/python3.7/dist-packages (from pandas==1.2.0) (1.21.6)\n",
            "Requirement already satisfied: six>=1.5 in /usr/local/lib/python3.7/dist-packages (from python-dateutil>=2.7.3->pandas==1.2.0) (1.15.0)\n",
            "Installing collected packages: pandas\n",
            "  Attempting uninstall: pandas\n",
            "    Found existing installation: pandas 1.3.5\n",
            "    Uninstalling pandas-1.3.5:\n",
            "      Successfully uninstalled pandas-1.3.5\n",
            "Successfully installed pandas-1.2.0\n",
            "Looking in indexes: https://pypi.org/simple, https://us-python.pkg.dev/colab-wheels/public/simple/\n",
            "Requirement already satisfied: xlrd in /usr/local/lib/python3.7/dist-packages (1.1.0)\n",
            "Collecting xlrd\n",
            "  Downloading xlrd-2.0.1-py2.py3-none-any.whl (96 kB)\n",
            "\u001b[K     |████████████████████████████████| 96 kB 3.4 MB/s \n",
            "\u001b[?25hInstalling collected packages: xlrd\n",
            "  Attempting uninstall: xlrd\n",
            "    Found existing installation: xlrd 1.1.0\n",
            "    Uninstalling xlrd-1.1.0:\n",
            "      Successfully uninstalled xlrd-1.1.0\n",
            "Successfully installed xlrd-2.0.1\n"
          ]
        }
      ],
      "source": [
        "!pip install pandas==1.2.0\n",
        "!pip install --upgrade xlrd"
      ]
    },
    {
      "cell_type": "markdown",
      "source": [
        "*IMPORT PACKAES*"
      ],
      "metadata": {
        "id": "_GwWucXfpfVu"
      }
    },
    {
      "cell_type": "code",
      "source": [
        "import pandas as pd\n",
        "import numpy as np\n",
        "import matplotlib.pyplot as plt\n",
        "from statsmodels.tsa.seasonal import seasonal_decompose\n",
        "import warnings\n",
        "import itertools\n",
        "import numpy as np\n",
        "import statsmodels.api as sm\n",
        "from sklearn.metrics import confusion_matrix"
      ],
      "metadata": {
        "id": "p61KVa0ToR1C",
        "outputId": "e4ed0986-ac0c-417e-e6d0-b9eb06185203",
        "colab": {
          "base_uri": "https://localhost:8080/"
        }
      },
      "execution_count": 2,
      "outputs": [
        {
          "output_type": "stream",
          "name": "stderr",
          "text": [
            "/usr/local/lib/python3.7/dist-packages/statsmodels/tools/_testing.py:19: FutureWarning: pandas.util.testing is deprecated. Use the functions in the public API at pandas.testing instead.\n",
            "  import pandas.util.testing as tm\n"
          ]
        }
      ]
    },
    {
      "cell_type": "markdown",
      "source": [
        "*DATA LOADING*"
      ],
      "metadata": {
        "id": "ro2GNCXnpj2O"
      }
    },
    {
      "cell_type": "code",
      "source": [
        "data = pd.read_excel('https://github.com/SriNithin965/project-4-2/raw/main/data/Sample-Superstore.xls')"
      ],
      "metadata": {
        "id": "nSQlSE6zoVod"
      },
      "execution_count": 3,
      "outputs": []
    },
    {
      "cell_type": "markdown",
      "source": [
        "*GROUPING THE DATA AND FILLING THE EMPTY VALUES BY MEDIAN*"
      ],
      "metadata": {
        "id": "t_8EH7HPpnOK"
      }
    },
    {
      "cell_type": "code",
      "source": [
        "data1 = data[['Ship Date','Sales']]\n",
        "data1 = data1.groupby('Ship Date').sum()\n",
        "data1 = data1.resample('MS').median()\n",
        "data1.head(10)"
      ],
      "metadata": {
        "colab": {
          "base_uri": "https://localhost:8080/",
          "height": 394
        },
        "id": "9ECd-0_3odCu",
        "outputId": "de0c005d-aebf-4932-9e0f-3caaaea29dd1"
      },
      "execution_count": 4,
      "outputs": [
        {
          "output_type": "execute_result",
          "data": {
            "text/plain": [
              "              Sales\n",
              "Ship Date          \n",
              "2014-01-01  149.950\n",
              "2014-02-01  112.411\n",
              "2014-03-01  483.546\n",
              "2014-04-01  680.252\n",
              "2014-05-01  504.828\n",
              "2014-06-01  656.066\n",
              "2014-07-01  504.586\n",
              "2014-08-01  884.666\n",
              "2014-09-01  947.648\n",
              "2014-10-01  672.993"
            ],
            "text/html": [
              "\n",
              "  <div id=\"df-afe69244-3164-4dc9-b78c-92e31c251436\">\n",
              "    <div class=\"colab-df-container\">\n",
              "      <div>\n",
              "<style scoped>\n",
              "    .dataframe tbody tr th:only-of-type {\n",
              "        vertical-align: middle;\n",
              "    }\n",
              "\n",
              "    .dataframe tbody tr th {\n",
              "        vertical-align: top;\n",
              "    }\n",
              "\n",
              "    .dataframe thead th {\n",
              "        text-align: right;\n",
              "    }\n",
              "</style>\n",
              "<table border=\"1\" class=\"dataframe\">\n",
              "  <thead>\n",
              "    <tr style=\"text-align: right;\">\n",
              "      <th></th>\n",
              "      <th>Sales</th>\n",
              "    </tr>\n",
              "    <tr>\n",
              "      <th>Ship Date</th>\n",
              "      <th></th>\n",
              "    </tr>\n",
              "  </thead>\n",
              "  <tbody>\n",
              "    <tr>\n",
              "      <th>2014-01-01</th>\n",
              "      <td>149.950</td>\n",
              "    </tr>\n",
              "    <tr>\n",
              "      <th>2014-02-01</th>\n",
              "      <td>112.411</td>\n",
              "    </tr>\n",
              "    <tr>\n",
              "      <th>2014-03-01</th>\n",
              "      <td>483.546</td>\n",
              "    </tr>\n",
              "    <tr>\n",
              "      <th>2014-04-01</th>\n",
              "      <td>680.252</td>\n",
              "    </tr>\n",
              "    <tr>\n",
              "      <th>2014-05-01</th>\n",
              "      <td>504.828</td>\n",
              "    </tr>\n",
              "    <tr>\n",
              "      <th>2014-06-01</th>\n",
              "      <td>656.066</td>\n",
              "    </tr>\n",
              "    <tr>\n",
              "      <th>2014-07-01</th>\n",
              "      <td>504.586</td>\n",
              "    </tr>\n",
              "    <tr>\n",
              "      <th>2014-08-01</th>\n",
              "      <td>884.666</td>\n",
              "    </tr>\n",
              "    <tr>\n",
              "      <th>2014-09-01</th>\n",
              "      <td>947.648</td>\n",
              "    </tr>\n",
              "    <tr>\n",
              "      <th>2014-10-01</th>\n",
              "      <td>672.993</td>\n",
              "    </tr>\n",
              "  </tbody>\n",
              "</table>\n",
              "</div>\n",
              "      <button class=\"colab-df-convert\" onclick=\"convertToInteractive('df-afe69244-3164-4dc9-b78c-92e31c251436')\"\n",
              "              title=\"Convert this dataframe to an interactive table.\"\n",
              "              style=\"display:none;\">\n",
              "        \n",
              "  <svg xmlns=\"http://www.w3.org/2000/svg\" height=\"24px\"viewBox=\"0 0 24 24\"\n",
              "       width=\"24px\">\n",
              "    <path d=\"M0 0h24v24H0V0z\" fill=\"none\"/>\n",
              "    <path d=\"M18.56 5.44l.94 2.06.94-2.06 2.06-.94-2.06-.94-.94-2.06-.94 2.06-2.06.94zm-11 1L8.5 8.5l.94-2.06 2.06-.94-2.06-.94L8.5 2.5l-.94 2.06-2.06.94zm10 10l.94 2.06.94-2.06 2.06-.94-2.06-.94-.94-2.06-.94 2.06-2.06.94z\"/><path d=\"M17.41 7.96l-1.37-1.37c-.4-.4-.92-.59-1.43-.59-.52 0-1.04.2-1.43.59L10.3 9.45l-7.72 7.72c-.78.78-.78 2.05 0 2.83L4 21.41c.39.39.9.59 1.41.59.51 0 1.02-.2 1.41-.59l7.78-7.78 2.81-2.81c.8-.78.8-2.07 0-2.86zM5.41 20L4 18.59l7.72-7.72 1.47 1.35L5.41 20z\"/>\n",
              "  </svg>\n",
              "      </button>\n",
              "      \n",
              "  <style>\n",
              "    .colab-df-container {\n",
              "      display:flex;\n",
              "      flex-wrap:wrap;\n",
              "      gap: 12px;\n",
              "    }\n",
              "\n",
              "    .colab-df-convert {\n",
              "      background-color: #E8F0FE;\n",
              "      border: none;\n",
              "      border-radius: 50%;\n",
              "      cursor: pointer;\n",
              "      display: none;\n",
              "      fill: #1967D2;\n",
              "      height: 32px;\n",
              "      padding: 0 0 0 0;\n",
              "      width: 32px;\n",
              "    }\n",
              "\n",
              "    .colab-df-convert:hover {\n",
              "      background-color: #E2EBFA;\n",
              "      box-shadow: 0px 1px 2px rgba(60, 64, 67, 0.3), 0px 1px 3px 1px rgba(60, 64, 67, 0.15);\n",
              "      fill: #174EA6;\n",
              "    }\n",
              "\n",
              "    [theme=dark] .colab-df-convert {\n",
              "      background-color: #3B4455;\n",
              "      fill: #D2E3FC;\n",
              "    }\n",
              "\n",
              "    [theme=dark] .colab-df-convert:hover {\n",
              "      background-color: #434B5C;\n",
              "      box-shadow: 0px 1px 3px 1px rgba(0, 0, 0, 0.15);\n",
              "      filter: drop-shadow(0px 1px 2px rgba(0, 0, 0, 0.3));\n",
              "      fill: #FFFFFF;\n",
              "    }\n",
              "  </style>\n",
              "\n",
              "      <script>\n",
              "        const buttonEl =\n",
              "          document.querySelector('#df-afe69244-3164-4dc9-b78c-92e31c251436 button.colab-df-convert');\n",
              "        buttonEl.style.display =\n",
              "          google.colab.kernel.accessAllowed ? 'block' : 'none';\n",
              "\n",
              "        async function convertToInteractive(key) {\n",
              "          const element = document.querySelector('#df-afe69244-3164-4dc9-b78c-92e31c251436');\n",
              "          const dataTable =\n",
              "            await google.colab.kernel.invokeFunction('convertToInteractive',\n",
              "                                                     [key], {});\n",
              "          if (!dataTable) return;\n",
              "\n",
              "          const docLinkHtml = 'Like what you see? Visit the ' +\n",
              "            '<a target=\"_blank\" href=https://colab.research.google.com/notebooks/data_table.ipynb>data table notebook</a>'\n",
              "            + ' to learn more about interactive tables.';\n",
              "          element.innerHTML = '';\n",
              "          dataTable['output_type'] = 'display_data';\n",
              "          await google.colab.output.renderOutput(dataTable, element);\n",
              "          const docLink = document.createElement('div');\n",
              "          docLink.innerHTML = docLinkHtml;\n",
              "          element.appendChild(docLink);\n",
              "        }\n",
              "      </script>\n",
              "    </div>\n",
              "  </div>\n",
              "  "
            ]
          },
          "metadata": {},
          "execution_count": 4
        }
      ]
    },
    {
      "cell_type": "code",
      "source": [
        "data1['Sales'] = data1['Sales']/min(data1['Sales'])"
      ],
      "metadata": {
        "id": "ZverOkfie70P"
      },
      "execution_count": 5,
      "outputs": []
    },
    {
      "cell_type": "markdown",
      "source": [
        "*HERE THE PLOT*"
      ],
      "metadata": {
        "id": "fw1LAt9XpySS"
      }
    },
    {
      "cell_type": "code",
      "source": [
        "data1.plot(figsize=(15,5))\n",
        "plt.show()"
      ],
      "metadata": {
        "colab": {
          "base_uri": "https://localhost:8080/",
          "height": 334
        },
        "id": "nAI04u5Nojrq",
        "outputId": "8696dfb9-0150-4f21-9fc3-8437d60f8e46"
      },
      "execution_count": 6,
      "outputs": [
        {
          "output_type": "display_data",
          "data": {
            "text/plain": [
              "<Figure size 1080x360 with 1 Axes>"
            ],
            "image/png": "[encoded data removed]"
          },
          "metadata": {
            "needs_background": "light"
          }
        }
      ]
    },
    {
      "cell_type": "markdown",
      "source": [
        "*INTIALING THE HYPER PARAMETERS*"
      ],
      "metadata": {
        "id": "5OPpRndBp15v"
      }
    },
    {
      "cell_type": "code",
      "source": [
        "p = d = q = range(0,2)\n",
        "pdq = list(itertools.product(p,d,q))\n",
        "print(pdq)"
      ],
      "metadata": {
        "colab": {
          "base_uri": "https://localhost:8080/"
        },
        "id": "F82hJRRhotr4",
        "outputId": "c0691fbe-6116-45f7-a2c4-0d43e282db4a"
      },
      "execution_count": 7,
      "outputs": [
        {
          "output_type": "stream",
          "name": "stdout",
          "text": [
            "[(0, 0, 0), (0, 0, 1), (0, 1, 0), (0, 1, 1), (1, 0, 0), (1, 0, 1), (1, 1, 0), (1, 1, 1)]\n"
          ]
        }
      ]
    },
    {
      "cell_type": "code",
      "source": [
        "seasons = 12\n",
        "seasonal_pdq = [   (x[0],x[1],x[2], seasons)  for x in pdq] \n",
        "seasonal_pdq"
      ],
      "metadata": {
        "colab": {
          "base_uri": "https://localhost:8080/"
        },
        "id": "o4V0TnvYo069",
        "outputId": "aa1bb93e-894c-4d9d-f910-bd01227c320e"
      },
      "execution_count": 8,
      "outputs": [
        {
          "output_type": "execute_result",
          "data": {
            "text/plain": [
              "[(0, 0, 0, 12),\n",
              " (0, 0, 1, 12),\n",
              " (0, 1, 0, 12),\n",
              " (0, 1, 1, 12),\n",
              " (1, 0, 0, 12),\n",
              " (1, 0, 1, 12),\n",
              " (1, 1, 0, 12),\n",
              " (1, 1, 1, 12)]"
            ]
          },
          "metadata": {},
          "execution_count": 8
        }
      ]
    },
    {
      "cell_type": "markdown",
      "source": [
        "*APPLYING GRID SEARCH TO FIND BETTER HYPERPARAMETERS*"
      ],
      "metadata": {
        "id": "DAuA3SA_p8UY"
      }
    },
    {
      "cell_type": "code",
      "source": [
        "min_pdq = (999,999,999)\n",
        "min_spdq = (999,999,999,12)\n",
        "min_AIC = 999\n",
        "for param in pdq:\n",
        "  for sparam in seasonal_pdq:\n",
        "    try:\n",
        "      model = sm.tsa.statespace.SARIMAX(data1, order=param, seasonal_order=sparam, enforce_stationarity=False)\n",
        "      predictions = model.fit()\n",
        "      if(predictions.aic < min_AIC):\n",
        "        min_pdq = param\n",
        "        min_spdq = sparam\n",
        "        min_AIC = predictions.aic\n",
        "    except Exception as e:\n",
        "      print(e)\n",
        "      continue\n",
        "\n",
        "print('**** Smallest PDQ,SPDQ is *****')\n",
        "print(min_AIC)\n",
        "print(min_pdq)\n",
        "print(min_spdq)"
      ],
      "metadata": {
        "colab": {
          "base_uri": "https://localhost:8080/"
        },
        "id": "K6cwhARto4EE",
        "outputId": "584f0bb7-189e-4c13-b431-d86ab245a584"
      },
      "execution_count": 9,
      "outputs": [
        {
          "output_type": "stream",
          "name": "stderr",
          "text": [
            "/usr/local/lib/python3.7/dist-packages/statsmodels/tsa/statespace/sarimax.py:993: UserWarning: Non-invertible starting seasonal moving average Using zeros as starting parameters.\n",
            "  warn('Non-invertible starting seasonal moving average'\n",
            "/usr/local/lib/python3.7/dist-packages/statsmodels/tsa/statespace/sarimax.py:887: RuntimeWarning: Mean of empty slice.\n",
            "  params_variance = (residuals[k_params_ma:]**2).mean()\n",
            "/usr/local/lib/python3.7/dist-packages/numpy/core/_methods.py:189: RuntimeWarning: invalid value encountered in double_scalars\n",
            "  ret = ret.dtype.type(ret / rcount)\n",
            "/usr/local/lib/python3.7/dist-packages/statsmodels/base/model.py:512: ConvergenceWarning: Maximum Likelihood optimization failed to converge. Check mle_retvals\n",
            "  \"Check mle_retvals\", ConvergenceWarning)\n",
            "/usr/local/lib/python3.7/dist-packages/statsmodels/base/model.py:512: ConvergenceWarning: Maximum Likelihood optimization failed to converge. Check mle_retvals\n",
            "  \"Check mle_retvals\", ConvergenceWarning)\n"
          ]
        },
        {
          "output_type": "stream",
          "name": "stdout",
          "text": [
            "maxlag should be < nobs\n",
            "maxlag should be < nobs\n",
            "maxlag should be < nobs\n",
            "maxlag should be < nobs\n"
          ]
        },
        {
          "output_type": "stream",
          "name": "stderr",
          "text": [
            "/usr/local/lib/python3.7/dist-packages/statsmodels/base/model.py:512: ConvergenceWarning: Maximum Likelihood optimization failed to converge. Check mle_retvals\n",
            "  \"Check mle_retvals\", ConvergenceWarning)\n"
          ]
        },
        {
          "output_type": "stream",
          "name": "stdout",
          "text": [
            "maxlag should be < nobs\n",
            "maxlag should be < nobs\n",
            "maxlag should be < nobs\n",
            "maxlag should be < nobs\n",
            "**** Smallest PDQ,SPDQ is *****\n",
            "127.11442363600139\n",
            "(1, 1, 1)\n",
            "(1, 1, 0, 12)\n"
          ]
        }
      ]
    },
    {
      "cell_type": "markdown",
      "source": [
        "*HERE THE MODEL BULIDING AND FITTING*"
      ],
      "metadata": {
        "id": "zNK8IJRuqC0-"
      }
    },
    {
      "cell_type": "code",
      "source": [
        "model = sm.tsa.statespace.SARIMAX(data1, order=min_pdq, seasonal_order= min_spdq, enforce_stationarity=False)\n",
        "results = model.fit()"
      ],
      "metadata": {
        "id": "rzepIe3Jo-OM"
      },
      "execution_count": 10,
      "outputs": []
    },
    {
      "cell_type": "code",
      "source": [
        "results.summary()"
      ],
      "metadata": {
        "colab": {
          "base_uri": "https://localhost:8080/",
          "height": 452
        },
        "id": "jCcTIKnPpBX-",
        "outputId": "d53c431e-648d-43ef-b40b-65b9ee7b4a91"
      },
      "execution_count": 11,
      "outputs": [
        {
          "output_type": "execute_result",
          "data": {
            "text/plain": [
              "<class 'statsmodels.iolib.summary.Summary'>\n",
              "\"\"\"\n",
              "                                 Statespace Model Results                                 \n",
              "==========================================================================================\n",
              "Dep. Variable:                              Sales   No. Observations:                   49\n",
              "Model:             SARIMAX(1, 1, 1)x(1, 1, 0, 12)   Log Likelihood                 -59.557\n",
              "Date:                            Tue, 14 Jun 2022   AIC                            127.114\n",
              "Time:                                    13:52:26   BIC                            131.656\n",
              "Sample:                                01-01-2014   HQIC                           128.257\n",
              "                                     - 01-01-2018                                         \n",
              "Covariance Type:                              opg                                         \n",
              "==============================================================================\n",
              "                 coef    std err          z      P>|z|      [0.025      0.975]\n",
              "------------------------------------------------------------------------------\n",
              "ar.L1         -0.4363      0.263     -1.658      0.097      -0.952       0.079\n",
              "ma.L1         -0.9436      0.290     -3.250      0.001      -1.513      -0.375\n",
              "ar.S.L12      -0.6368      0.199     -3.206      0.001      -1.026      -0.247\n",
              "sigma2         9.5923      2.882      3.329      0.001       3.945      15.240\n",
              "===================================================================================\n",
              "Ljung-Box (Q):                         nan   Jarque-Bera (JB):                 5.26\n",
              "Prob(Q):                               nan   Prob(JB):                         0.07\n",
              "Heteroskedasticity (H):               3.49   Skew:                             0.98\n",
              "Prob(H) (two-sided):                  0.10   Kurtosis:                         4.29\n",
              "===================================================================================\n",
              "\n",
              "Warnings:\n",
              "[1] Covariance matrix calculated using the outer product of gradients (complex-step).\n",
              "\"\"\""
            ],
            "text/html": [
              "<table class=\"simpletable\">\n",
              "<caption>Statespace Model Results</caption>\n",
              "<tr>\n",
              "  <th>Dep. Variable:</th>                <td>Sales</td>             <th>  No. Observations:  </th>   <td>49</td>   \n",
              "</tr>\n",
              "<tr>\n",
              "  <th>Model:</th>           <td>SARIMAX(1, 1, 1)x(1, 1, 0, 12)</td> <th>  Log Likelihood     </th> <td>-59.557</td>\n",
              "</tr>\n",
              "<tr>\n",
              "  <th>Date:</th>                   <td>Tue, 14 Jun 2022</td>        <th>  AIC                </th> <td>127.114</td>\n",
              "</tr>\n",
              "<tr>\n",
              "  <th>Time:</th>                       <td>13:52:26</td>            <th>  BIC                </th> <td>131.656</td>\n",
              "</tr>\n",
              "<tr>\n",
              "  <th>Sample:</th>                    <td>01-01-2014</td>           <th>  HQIC               </th> <td>128.257</td>\n",
              "</tr>\n",
              "<tr>\n",
              "  <th></th>                          <td>- 01-01-2018</td>          <th>                     </th>    <td> </td>   \n",
              "</tr>\n",
              "<tr>\n",
              "  <th>Covariance Type:</th>               <td>opg</td>              <th>                     </th>    <td> </td>   \n",
              "</tr>\n",
              "</table>\n",
              "<table class=\"simpletable\">\n",
              "<tr>\n",
              "      <td></td>        <th>coef</th>     <th>std err</th>      <th>z</th>      <th>P>|z|</th>  <th>[0.025</th>    <th>0.975]</th>  \n",
              "</tr>\n",
              "<tr>\n",
              "  <th>ar.L1</th>    <td>   -0.4363</td> <td>    0.263</td> <td>   -1.658</td> <td> 0.097</td> <td>   -0.952</td> <td>    0.079</td>\n",
              "</tr>\n",
              "<tr>\n",
              "  <th>ma.L1</th>    <td>   -0.9436</td> <td>    0.290</td> <td>   -3.250</td> <td> 0.001</td> <td>   -1.513</td> <td>   -0.375</td>\n",
              "</tr>\n",
              "<tr>\n",
              "  <th>ar.S.L12</th> <td>   -0.6368</td> <td>    0.199</td> <td>   -3.206</td> <td> 0.001</td> <td>   -1.026</td> <td>   -0.247</td>\n",
              "</tr>\n",
              "<tr>\n",
              "  <th>sigma2</th>   <td>    9.5923</td> <td>    2.882</td> <td>    3.329</td> <td> 0.001</td> <td>    3.945</td> <td>   15.240</td>\n",
              "</tr>\n",
              "</table>\n",
              "<table class=\"simpletable\">\n",
              "<tr>\n",
              "  <th>Ljung-Box (Q):</th>           <td>nan</td> <th>  Jarque-Bera (JB):  </th> <td>5.26</td>\n",
              "</tr>\n",
              "<tr>\n",
              "  <th>Prob(Q):</th>                 <td>nan</td> <th>  Prob(JB):          </th> <td>0.07</td>\n",
              "</tr>\n",
              "<tr>\n",
              "  <th>Heteroskedasticity (H):</th> <td>3.49</td> <th>  Skew:              </th> <td>0.98</td>\n",
              "</tr>\n",
              "<tr>\n",
              "  <th>Prob(H) (two-sided):</th>    <td>0.10</td> <th>  Kurtosis:          </th> <td>4.29</td>\n",
              "</tr>\n",
              "</table><br/><br/>Warnings:<br/>[1] Covariance matrix calculated using the outer product of gradients (complex-step)."
            ]
          },
          "metadata": {},
          "execution_count": 11
        }
      ]
    },
    {
      "cell_type": "markdown",
      "source": [
        "*HERE THE PREDICTIONS*"
      ],
      "metadata": {
        "id": "skTHRiCiqJZ7"
      }
    },
    {
      "cell_type": "code",
      "source": [
        "pred = results.get_prediction(start=pd.to_datetime('2014-01-01'), dynamic=False)\n",
        "pred_ci = pred.conf_int()\n",
        "ax = data1['2014':].plot(label='actual')\n",
        "pred.predicted_mean.plot(ax=ax, label='One-Step-Ahead Forecast')\n",
        "#ax.fill_between(pred_ci.index, pred_ci.iloc[:,0], pred_ci.iloc[:,1], color='k', alpha=0.2)\n",
        "ax.set_xlabel('Months')\n",
        "ax.set_ylabel('Algo 1 Forecast')\n",
        "plt.legend()\n",
        "plt.show()"
      ],
      "metadata": {
        "colab": {
          "base_uri": "https://localhost:8080/",
          "height": 279
        },
        "id": "uGwptgmqpEmZ",
        "outputId": "1e1775b4-8e85-46c0-ecf4-ac7ae0c6341a"
      },
      "execution_count": 23,
      "outputs": [
        {
          "output_type": "display_data",
          "data": {
            "text/plain": [
              "<Figure size 432x288 with 1 Axes>"
            ],
            "image/png": "[encoded data removed]"
          },
          "metadata": {
            "needs_background": "light"
          }
        }
      ]
    },
    {
      "cell_type": "code",
      "source": [
        "arr = data1['Sales'].values\n",
        "ac = pred.predicted_mean.values"
      ],
      "metadata": {
        "id": "CfvFtJGVRzbH"
      },
      "execution_count": 24,
      "outputs": []
    },
    {
      "cell_type": "code",
      "source": [
        "def forecast_accuracy(forecast, actual):\n",
        "    mape = np.mean(np.abs(forecast - actual)/np.abs(actual))  # MAPE\n",
        "    me = np.mean(forecast - actual)             # ME\n",
        "    mae = np.mean(np.abs(forecast - actual))    # MAE\n",
        "    mpe = np.mean((forecast - actual)/actual)   # MPE\n",
        "    rmse = np.mean((forecast - actual)**2)**.5  # RMSE\n",
        "    corr = np.corrcoef(forecast, actual)[0,1]   # corr\n",
        "    mins = np.amin(np.hstack([forecast[:,None], \n",
        "                              actual[:,None]]), axis=1)\n",
        "    maxs = np.amax(np.hstack([forecast[:,None], \n",
        "                              actual[:,None]]), axis=1)\n",
        "    minmax = 1 - np.mean(mins/maxs)             # minmax                   # ACF1\n",
        "    return({'mape':mape, 'me':me, 'mae': mae, \n",
        "            'mpe': mpe, 'rmse':rmse, \n",
        "            'corr':corr, 'minmax':minmax})\n",
        "forecast_accuracy(ac,arr)"
      ],
      "metadata": {
        "id": "Av8na40yO4Fx",
        "outputId": "989bf2a4-f9ac-4a0c-dd10-1c446c4f35aa",
        "colab": {
          "base_uri": "https://localhost:8080/"
        }
      },
      "execution_count": 25,
      "outputs": [
        {
          "output_type": "execute_result",
          "data": {
            "text/plain": [
              "{'corr': 0.7465382613475611,\n",
              " 'mae': 2.9545745541856703,\n",
              " 'mape': 0.40265798936023695,\n",
              " 'me': -0.37951624544122137,\n",
              " 'minmax': 0.2735794758332166,\n",
              " 'mpe': 0.09628837039933469,\n",
              " 'rmse': 4.223695163446492}"
            ]
          },
          "metadata": {},
          "execution_count": 25
        }
      ]
    },
    {
      "cell_type": "code",
      "source": [
        "data2 = data1.copy()\n",
        "import datetime\n",
        "from dateutil.relativedelta import relativedelta\n",
        "start = datetime.datetime.strptime(\"2018-01-01\", \"%Y-%m-%d\")\n",
        "date_list = [start + relativedelta(months=x) for x in range(0,12)]\n",
        "future_prediction = pd.DataFrame(index=date_list, columns= data1.columns)\n",
        "data2 = pd.concat([data2, future_prediction])"
      ],
      "metadata": {
        "id": "WAal_B-WT1rE"
      },
      "execution_count": 17,
      "outputs": []
    },
    {
      "cell_type": "code",
      "source": [
        "data2"
      ],
      "metadata": {
        "id": "cZXSg4sYVHTW",
        "outputId": "59802781-b018-4fff-ce6f-387b6847b6af",
        "colab": {
          "base_uri": "https://localhost:8080/",
          "height": 424
        }
      },
      "execution_count": 26,
      "outputs": [
        {
          "output_type": "execute_result",
          "data": {
            "text/plain": [
              "               Sales  future_prediction\n",
              "2014-01-01  1.333944                NaN\n",
              "2014-02-01  1.000000                NaN\n",
              "2014-03-01  4.301590                NaN\n",
              "2014-04-01  6.051472                NaN\n",
              "2014-05-01  4.490913                NaN\n",
              "...              ...                ...\n",
              "2018-08-01       NaN          13.327140\n",
              "2018-09-01       NaN          25.353270\n",
              "2018-10-01       NaN          11.312223\n",
              "2018-11-01       NaN          22.561998\n",
              "2018-12-01       NaN          27.916468\n",
              "\n",
              "[61 rows x 2 columns]"
            ],
            "text/html": [
              "\n",
              "  <div id=\"df-c472af30-7ed5-4c5f-b2ad-e3a67978deec\">\n",
              "    <div class=\"colab-df-container\">\n",
              "      <div>\n",
              "<style scoped>\n",
              "    .dataframe tbody tr th:only-of-type {\n",
              "        vertical-align: middle;\n",
              "    }\n",
              "\n",
              "    .dataframe tbody tr th {\n",
              "        vertical-align: top;\n",
              "    }\n",
              "\n",
              "    .dataframe thead th {\n",
              "        text-align: right;\n",
              "    }\n",
              "</style>\n",
              "<table border=\"1\" class=\"dataframe\">\n",
              "  <thead>\n",
              "    <tr style=\"text-align: right;\">\n",
              "      <th></th>\n",
              "      <th>Sales</th>\n",
              "      <th>future_prediction</th>\n",
              "    </tr>\n",
              "  </thead>\n",
              "  <tbody>\n",
              "    <tr>\n",
              "      <th>2014-01-01</th>\n",
              "      <td>1.333944</td>\n",
              "      <td>NaN</td>\n",
              "    </tr>\n",
              "    <tr>\n",
              "      <th>2014-02-01</th>\n",
              "      <td>1.000000</td>\n",
              "      <td>NaN</td>\n",
              "    </tr>\n",
              "    <tr>\n",
              "      <th>2014-03-01</th>\n",
              "      <td>4.301590</td>\n",
              "      <td>NaN</td>\n",
              "    </tr>\n",
              "    <tr>\n",
              "      <th>2014-04-01</th>\n",
              "      <td>6.051472</td>\n",
              "      <td>NaN</td>\n",
              "    </tr>\n",
              "    <tr>\n",
              "      <th>2014-05-01</th>\n",
              "      <td>4.490913</td>\n",
              "      <td>NaN</td>\n",
              "    </tr>\n",
              "    <tr>\n",
              "      <th>...</th>\n",
              "      <td>...</td>\n",
              "      <td>...</td>\n",
              "    </tr>\n",
              "    <tr>\n",
              "      <th>2018-08-01</th>\n",
              "      <td>NaN</td>\n",
              "      <td>13.327140</td>\n",
              "    </tr>\n",
              "    <tr>\n",
              "      <th>2018-09-01</th>\n",
              "      <td>NaN</td>\n",
              "      <td>25.353270</td>\n",
              "    </tr>\n",
              "    <tr>\n",
              "      <th>2018-10-01</th>\n",
              "      <td>NaN</td>\n",
              "      <td>11.312223</td>\n",
              "    </tr>\n",
              "    <tr>\n",
              "      <th>2018-11-01</th>\n",
              "      <td>NaN</td>\n",
              "      <td>22.561998</td>\n",
              "    </tr>\n",
              "    <tr>\n",
              "      <th>2018-12-01</th>\n",
              "      <td>NaN</td>\n",
              "      <td>27.916468</td>\n",
              "    </tr>\n",
              "  </tbody>\n",
              "</table>\n",
              "<p>61 rows × 2 columns</p>\n",
              "</div>\n",
              "      <button class=\"colab-df-convert\" onclick=\"convertToInteractive('df-c472af30-7ed5-4c5f-b2ad-e3a67978deec')\"\n",
              "              title=\"Convert this dataframe to an interactive table.\"\n",
              "              style=\"display:none;\">\n",
              "        \n",
              "  <svg xmlns=\"http://www.w3.org/2000/svg\" height=\"24px\"viewBox=\"0 0 24 24\"\n",
              "       width=\"24px\">\n",
              "    <path d=\"M0 0h24v24H0V0z\" fill=\"none\"/>\n",
              "    <path d=\"M18.56 5.44l.94 2.06.94-2.06 2.06-.94-2.06-.94-.94-2.06-.94 2.06-2.06.94zm-11 1L8.5 8.5l.94-2.06 2.06-.94-2.06-.94L8.5 2.5l-.94 2.06-2.06.94zm10 10l.94 2.06.94-2.06 2.06-.94-2.06-.94-.94-2.06-.94 2.06-2.06.94z\"/><path d=\"M17.41 7.96l-1.37-1.37c-.4-.4-.92-.59-1.43-.59-.52 0-1.04.2-1.43.59L10.3 9.45l-7.72 7.72c-.78.78-.78 2.05 0 2.83L4 21.41c.39.39.9.59 1.41.59.51 0 1.02-.2 1.41-.59l7.78-7.78 2.81-2.81c.8-.78.8-2.07 0-2.86zM5.41 20L4 18.59l7.72-7.72 1.47 1.35L5.41 20z\"/>\n",
              "  </svg>\n",
              "      </button>\n",
              "      \n",
              "  <style>\n",
              "    .colab-df-container {\n",
              "      display:flex;\n",
              "      flex-wrap:wrap;\n",
              "      gap: 12px;\n",
              "    }\n",
              "\n",
              "    .colab-df-convert {\n",
              "      background-color: #E8F0FE;\n",
              "      border: none;\n",
              "      border-radius: 50%;\n",
              "      cursor: pointer;\n",
              "      display: none;\n",
              "      fill: #1967D2;\n",
              "      height: 32px;\n",
              "      padding: 0 0 0 0;\n",
              "      width: 32px;\n",
              "    }\n",
              "\n",
              "    .colab-df-convert:hover {\n",
              "      background-color: #E2EBFA;\n",
              "      box-shadow: 0px 1px 2px rgba(60, 64, 67, 0.3), 0px 1px 3px 1px rgba(60, 64, 67, 0.15);\n",
              "      fill: #174EA6;\n",
              "    }\n",
              "\n",
              "    [theme=dark] .colab-df-convert {\n",
              "      background-color: #3B4455;\n",
              "      fill: #D2E3FC;\n",
              "    }\n",
              "\n",
              "    [theme=dark] .colab-df-convert:hover {\n",
              "      background-color: #434B5C;\n",
              "      box-shadow: 0px 1px 3px 1px rgba(0, 0, 0, 0.15);\n",
              "      filter: drop-shadow(0px 1px 2px rgba(0, 0, 0, 0.3));\n",
              "      fill: #FFFFFF;\n",
              "    }\n",
              "  </style>\n",
              "\n",
              "      <script>\n",
              "        const buttonEl =\n",
              "          document.querySelector('#df-c472af30-7ed5-4c5f-b2ad-e3a67978deec button.colab-df-convert');\n",
              "        buttonEl.style.display =\n",
              "          google.colab.kernel.accessAllowed ? 'block' : 'none';\n",
              "\n",
              "        async function convertToInteractive(key) {\n",
              "          const element = document.querySelector('#df-c472af30-7ed5-4c5f-b2ad-e3a67978deec');\n",
              "          const dataTable =\n",
              "            await google.colab.kernel.invokeFunction('convertToInteractive',\n",
              "                                                     [key], {});\n",
              "          if (!dataTable) return;\n",
              "\n",
              "          const docLinkHtml = 'Like what you see? Visit the ' +\n",
              "            '<a target=\"_blank\" href=https://colab.research.google.com/notebooks/data_table.ipynb>data table notebook</a>'\n",
              "            + ' to learn more about interactive tables.';\n",
              "          element.innerHTML = '';\n",
              "          dataTable['output_type'] = 'display_data';\n",
              "          await google.colab.output.renderOutput(dataTable, element);\n",
              "          const docLink = document.createElement('div');\n",
              "          docLink.innerHTML = docLinkHtml;\n",
              "          element.appendChild(docLink);\n",
              "        }\n",
              "      </script>\n",
              "    </div>\n",
              "  </div>\n",
              "  "
            ]
          },
          "metadata": {},
          "execution_count": 26
        }
      ]
    },
    {
      "cell_type": "code",
      "source": [
        "data2['future_prediction']=results.predict(start=46, end=60 ,dynamic=True)\n",
        "data2[['Sales','future_prediction']].plot(figsize=(10, 6))\n",
        "plt.show()"
      ],
      "metadata": {
        "id": "SFjOO-UlU8bG",
        "outputId": "6d8c6875-5bcf-4c8d-aea7-95e768c05d01",
        "colab": {
          "base_uri": "https://localhost:8080/",
          "height": 353
        }
      },
      "execution_count": 27,
      "outputs": [
        {
          "output_type": "display_data",
          "data": {
            "text/plain": [
              "<Figure size 720x432 with 1 Axes>"
            ],
            "image/png": "[encoded data removed]"
          },
          "metadata": {
            "needs_background": "light"
          }
        }
      ]
    },
    {
      "cell_type": "code",
      "source": [
        "data2.tail(20)"
      ],
      "metadata": {
        "id": "Ux-dVgXmV5ix",
        "outputId": "54186bcf-b107-4687-cd6c-43a4120d5ad6",
        "colab": {
          "base_uri": "https://localhost:8080/",
          "height": 677
        }
      },
      "execution_count": 29,
      "outputs": [
        {
          "output_type": "execute_result",
          "data": {
            "text/plain": [
              "                Sales  future_prediction\n",
              "2017-06-01  10.043839                NaN\n",
              "2017-07-01  10.058615                NaN\n",
              "2017-08-01  13.977369                NaN\n",
              "2017-09-01  26.542118                NaN\n",
              "2017-10-01  11.594986                NaN\n",
              "2017-11-01  19.039445          20.825841\n",
              "2017-12-01  23.793686          21.467720\n",
              "2018-01-01   5.064220           8.685639\n",
              "2018-01-01        NaN           8.685639\n",
              "2018-02-01        NaN           8.693579\n",
              "2018-03-01        NaN          11.245522\n",
              "2018-04-01        NaN          12.839374\n",
              "2018-05-01        NaN          11.968523\n",
              "2018-06-01        NaN          12.615123\n",
              "2018-07-01        NaN          12.882561\n",
              "2018-08-01        NaN          13.327140\n",
              "2018-09-01        NaN          25.353270\n",
              "2018-10-01        NaN          11.312223\n",
              "2018-11-01        NaN          22.561998\n",
              "2018-12-01        NaN          27.916468"
            ],
            "text/html": [
              "\n",
              "  <div id=\"df-3588db6e-2feb-40c5-a325-1395ff2bb475\">\n",
              "    <div class=\"colab-df-container\">\n",
              "      <div>\n",
              "<style scoped>\n",
              "    .dataframe tbody tr th:only-of-type {\n",
              "        vertical-align: middle;\n",
              "    }\n",
              "\n",
              "    .dataframe tbody tr th {\n",
              "        vertical-align: top;\n",
              "    }\n",
              "\n",
              "    .dataframe thead th {\n",
              "        text-align: right;\n",
              "    }\n",
              "</style>\n",
              "<table border=\"1\" class=\"dataframe\">\n",
              "  <thead>\n",
              "    <tr style=\"text-align: right;\">\n",
              "      <th></th>\n",
              "      <th>Sales</th>\n",
              "      <th>future_prediction</th>\n",
              "    </tr>\n",
              "  </thead>\n",
              "  <tbody>\n",
              "    <tr>\n",
              "      <th>2017-06-01</th>\n",
              "      <td>10.043839</td>\n",
              "      <td>NaN</td>\n",
              "    </tr>\n",
              "    <tr>\n",
              "      <th>2017-07-01</th>\n",
              "      <td>10.058615</td>\n",
              "      <td>NaN</td>\n",
              "    </tr>\n",
              "    <tr>\n",
              "      <th>2017-08-01</th>\n",
              "      <td>13.977369</td>\n",
              "      <td>NaN</td>\n",
              "    </tr>\n",
              "    <tr>\n",
              "      <th>2017-09-01</th>\n",
              "      <td>26.542118</td>\n",
              "      <td>NaN</td>\n",
              "    </tr>\n",
              "    <tr>\n",
              "      <th>2017-10-01</th>\n",
              "      <td>11.594986</td>\n",
              "      <td>NaN</td>\n",
              "    </tr>\n",
              "    <tr>\n",
              "      <th>2017-11-01</th>\n",
              "      <td>19.039445</td>\n",
              "      <td>20.825841</td>\n",
              "    </tr>\n",
              "    <tr>\n",
              "      <th>2017-12-01</th>\n",
              "      <td>23.793686</td>\n",
              "      <td>21.467720</td>\n",
              "    </tr>\n",
              "    <tr>\n",
              "      <th>2018-01-01</th>\n",
              "      <td>5.064220</td>\n",
              "      <td>8.685639</td>\n",
              "    </tr>\n",
              "    <tr>\n",
              "      <th>2018-01-01</th>\n",
              "      <td>NaN</td>\n",
              "      <td>8.685639</td>\n",
              "    </tr>\n",
              "    <tr>\n",
              "      <th>2018-02-01</th>\n",
              "      <td>NaN</td>\n",
              "      <td>8.693579</td>\n",
              "    </tr>\n",
              "    <tr>\n",
              "      <th>2018-03-01</th>\n",
              "      <td>NaN</td>\n",
              "      <td>11.245522</td>\n",
              "    </tr>\n",
              "    <tr>\n",
              "      <th>2018-04-01</th>\n",
              "      <td>NaN</td>\n",
              "      <td>12.839374</td>\n",
              "    </tr>\n",
              "    <tr>\n",
              "      <th>2018-05-01</th>\n",
              "      <td>NaN</td>\n",
              "      <td>11.968523</td>\n",
              "    </tr>\n",
              "    <tr>\n",
              "      <th>2018-06-01</th>\n",
              "      <td>NaN</td>\n",
              "      <td>12.615123</td>\n",
              "    </tr>\n",
              "    <tr>\n",
              "      <th>2018-07-01</th>\n",
              "      <td>NaN</td>\n",
              "      <td>12.882561</td>\n",
              "    </tr>\n",
              "    <tr>\n",
              "      <th>2018-08-01</th>\n",
              "      <td>NaN</td>\n",
              "      <td>13.327140</td>\n",
              "    </tr>\n",
              "    <tr>\n",
              "      <th>2018-09-01</th>\n",
              "      <td>NaN</td>\n",
              "      <td>25.353270</td>\n",
              "    </tr>\n",
              "    <tr>\n",
              "      <th>2018-10-01</th>\n",
              "      <td>NaN</td>\n",
              "      <td>11.312223</td>\n",
              "    </tr>\n",
              "    <tr>\n",
              "      <th>2018-11-01</th>\n",
              "      <td>NaN</td>\n",
              "      <td>22.561998</td>\n",
              "    </tr>\n",
              "    <tr>\n",
              "      <th>2018-12-01</th>\n",
              "      <td>NaN</td>\n",
              "      <td>27.916468</td>\n",
              "    </tr>\n",
              "  </tbody>\n",
              "</table>\n",
              "</div>\n",
              "      <button class=\"colab-df-convert\" onclick=\"convertToInteractive('df-3588db6e-2feb-40c5-a325-1395ff2bb475')\"\n",
              "              title=\"Convert this dataframe to an interactive table.\"\n",
              "              style=\"display:none;\">\n",
              "        \n",
              "  <svg xmlns=\"http://www.w3.org/2000/svg\" height=\"24px\"viewBox=\"0 0 24 24\"\n",
              "       width=\"24px\">\n",
              "    <path d=\"M0 0h24v24H0V0z\" fill=\"none\"/>\n",
              "    <path d=\"M18.56 5.44l.94 2.06.94-2.06 2.06-.94-2.06-.94-.94-2.06-.94 2.06-2.06.94zm-11 1L8.5 8.5l.94-2.06 2.06-.94-2.06-.94L8.5 2.5l-.94 2.06-2.06.94zm10 10l.94 2.06.94-2.06 2.06-.94-2.06-.94-.94-2.06-.94 2.06-2.06.94z\"/><path d=\"M17.41 7.96l-1.37-1.37c-.4-.4-.92-.59-1.43-.59-.52 0-1.04.2-1.43.59L10.3 9.45l-7.72 7.72c-.78.78-.78 2.05 0 2.83L4 21.41c.39.39.9.59 1.41.59.51 0 1.02-.2 1.41-.59l7.78-7.78 2.81-2.81c.8-.78.8-2.07 0-2.86zM5.41 20L4 18.59l7.72-7.72 1.47 1.35L5.41 20z\"/>\n",
              "  </svg>\n",
              "      </button>\n",
              "      \n",
              "  <style>\n",
              "    .colab-df-container {\n",
              "      display:flex;\n",
              "      flex-wrap:wrap;\n",
              "      gap: 12px;\n",
              "    }\n",
              "\n",
              "    .colab-df-convert {\n",
              "      background-color: #E8F0FE;\n",
              "      border: none;\n",
              "      border-radius: 50%;\n",
              "      cursor: pointer;\n",
              "      display: none;\n",
              "      fill: #1967D2;\n",
              "      height: 32px;\n",
              "      padding: 0 0 0 0;\n",
              "      width: 32px;\n",
              "    }\n",
              "\n",
              "    .colab-df-convert:hover {\n",
              "      background-color: #E2EBFA;\n",
              "      box-shadow: 0px 1px 2px rgba(60, 64, 67, 0.3), 0px 1px 3px 1px rgba(60, 64, 67, 0.15);\n",
              "      fill: #174EA6;\n",
              "    }\n",
              "\n",
              "    [theme=dark] .colab-df-convert {\n",
              "      background-color: #3B4455;\n",
              "      fill: #D2E3FC;\n",
              "    }\n",
              "\n",
              "    [theme=dark] .colab-df-convert:hover {\n",
              "      background-color: #434B5C;\n",
              "      box-shadow: 0px 1px 3px 1px rgba(0, 0, 0, 0.15);\n",
              "      filter: drop-shadow(0px 1px 2px rgba(0, 0, 0, 0.3));\n",
              "      fill: #FFFFFF;\n",
              "    }\n",
              "  </style>\n",
              "\n",
              "      <script>\n",
              "        const buttonEl =\n",
              "          document.querySelector('#df-3588db6e-2feb-40c5-a325-1395ff2bb475 button.colab-df-convert');\n",
              "        buttonEl.style.display =\n",
              "          google.colab.kernel.accessAllowed ? 'block' : 'none';\n",
              "\n",
              "        async function convertToInteractive(key) {\n",
              "          const element = document.querySelector('#df-3588db6e-2feb-40c5-a325-1395ff2bb475');\n",
              "          const dataTable =\n",
              "            await google.colab.kernel.invokeFunction('convertToInteractive',\n",
              "                                                     [key], {});\n",
              "          if (!dataTable) return;\n",
              "\n",
              "          const docLinkHtml = 'Like what you see? Visit the ' +\n",
              "            '<a target=\"_blank\" href=https://colab.research.google.com/notebooks/data_table.ipynb>data table notebook</a>'\n",
              "            + ' to learn more about interactive tables.';\n",
              "          element.innerHTML = '';\n",
              "          dataTable['output_type'] = 'display_data';\n",
              "          await google.colab.output.renderOutput(dataTable, element);\n",
              "          const docLink = document.createElement('div');\n",
              "          docLink.innerHTML = docLinkHtml;\n",
              "          element.appendChild(docLink);\n",
              "        }\n",
              "      </script>\n",
              "    </div>\n",
              "  </div>\n",
              "  "
            ]
          },
          "metadata": {},
          "execution_count": 29
        }
      ]
    }
  ]
}