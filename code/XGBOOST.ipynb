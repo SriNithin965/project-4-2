{
  "nbformat": 4,
  "nbformat_minor": 0,
  "metadata": {
    "colab": {
      "name": "XGBOOST.ipynb",
      "provenance": [],
      "authorship_tag": "ABX9TyM3Iw49Xcxy4c0DsuJ4PBh0",
      "include_colab_link": true
    },
    "kernelspec": {
      "name": "python3",
      "display_name": "Python 3"
    },
    "language_info": {
      "name": "python"
    }
  },
  "cells": [
    {
      "cell_type": "markdown",
      "metadata": {
        "id": "view-in-github",
        "colab_type": "text"
      },
      "source": [
        "<a href=\"https://colab.research.google.com/github/SriNithin965/project-4-2/blob/main/code/XGBOOST.ipynb\" target=\"_parent\"><img src=\"https://colab.research.google.com/assets/colab-badge.svg\" alt=\"Open In Colab\"/></a>"
      ]
    },
    {
      "cell_type": "markdown",
      "source": [
        "<h4><b> PACKAGES DOWNLOADING </b> </h4>"
      ],
      "metadata": {
        "id": "RLyME1FfRaAz"
      }
    },
    {
      "cell_type": "code",
      "execution_count": 1,
      "metadata": {
        "colab": {
          "base_uri": "https://localhost:8080/"
        },
        "id": "dcnfeFZVQ3rO",
        "outputId": "ddb5d9e6-2788-4506-b05b-e07c883a8bfb"
      },
      "outputs": [
        {
          "output_type": "stream",
          "name": "stdout",
          "text": [
            "Looking in indexes: https://pypi.org/simple, https://us-python.pkg.dev/colab-wheels/public/simple/\n",
            "Collecting pandas==1.2.0\n",
            "  Downloading pandas-1.2.0-cp37-cp37m-manylinux1_x86_64.whl (9.9 MB)\n",
            "\u001b[K     |████████████████████████████████| 9.9 MB 7.6 MB/s \n",
            "\u001b[?25hRequirement already satisfied: pytz>=2017.3 in /usr/local/lib/python3.7/dist-packages (from pandas==1.2.0) (2022.1)\n",
            "Requirement already satisfied: python-dateutil>=2.7.3 in /usr/local/lib/python3.7/dist-packages (from pandas==1.2.0) (2.8.2)\n",
            "Requirement already satisfied: numpy>=1.16.5 in /usr/local/lib/python3.7/dist-packages (from pandas==1.2.0) (1.21.6)\n",
            "Requirement already satisfied: six>=1.5 in /usr/local/lib/python3.7/dist-packages (from python-dateutil>=2.7.3->pandas==1.2.0) (1.15.0)\n",
            "Installing collected packages: pandas\n",
            "  Attempting uninstall: pandas\n",
            "    Found existing installation: pandas 1.3.5\n",
            "    Uninstalling pandas-1.3.5:\n",
            "      Successfully uninstalled pandas-1.3.5\n",
            "Successfully installed pandas-1.2.0\n",
            "Looking in indexes: https://pypi.org/simple, https://us-python.pkg.dev/colab-wheels/public/simple/\n",
            "Requirement already satisfied: xlrd in /usr/local/lib/python3.7/dist-packages (1.1.0)\n",
            "Collecting xlrd\n",
            "  Downloading xlrd-2.0.1-py2.py3-none-any.whl (96 kB)\n",
            "\u001b[K     |████████████████████████████████| 96 kB 4.1 MB/s \n",
            "\u001b[?25hInstalling collected packages: xlrd\n",
            "  Attempting uninstall: xlrd\n",
            "    Found existing installation: xlrd 1.1.0\n",
            "    Uninstalling xlrd-1.1.0:\n",
            "      Successfully uninstalled xlrd-1.1.0\n",
            "Successfully installed xlrd-2.0.1\n"
          ]
        }
      ],
      "source": [
        "!pip install pandas==1.2.0\n",
        "!pip install --upgrade xlrd"
      ]
    },
    {
      "cell_type": "markdown",
      "source": [
        "<h4><b> PACAKAGES LOADING </b></h4>"
      ],
      "metadata": {
        "id": "qEpgsLCeRnia"
      }
    },
    {
      "cell_type": "code",
      "source": [
        "import pandas as pd\n",
        "import numpy as np\n",
        "import xgboost as xg\n",
        "from sklearn.model_selection import train_test_split"
      ],
      "metadata": {
        "id": "hBAvgJ5_RZK9"
      },
      "execution_count": 2,
      "outputs": []
    },
    {
      "cell_type": "markdown",
      "source": [
        "<h4><b> DATASET LOADING </b></h4>"
      ],
      "metadata": {
        "id": "lR7FVJ3kSfop"
      }
    },
    {
      "cell_type": "code",
      "source": [
        "data = pd.read_excel('https://github.com/SriNithin965/project-4-2/raw/main/data/Sample-Superstore.xls')"
      ],
      "metadata": {
        "id": "hkjqd4p4SjYA"
      },
      "execution_count": 3,
      "outputs": []
    },
    {
      "cell_type": "markdown",
      "source": [
        "<h4><b> DATA TRANSFORMATION </b></h4>"
      ],
      "metadata": {
        "id": "eUZhhYm2SrUX"
      }
    },
    {
      "cell_type": "code",
      "source": [
        "data1 = data[['Ship Date','Sales']]\n",
        "data1 = data1.groupby('Ship Date').sum()\n",
        "data1 = data1.resample('MS').median()"
      ],
      "metadata": {
        "id": "c80i2poWS1QA"
      },
      "execution_count": 4,
      "outputs": []
    },
    {
      "cell_type": "code",
      "source": [
        "data1 = data1.reset_index()"
      ],
      "metadata": {
        "id": "7omYULX1UeAI"
      },
      "execution_count": 5,
      "outputs": []
    },
    {
      "cell_type": "code",
      "source": [
        "data1.rename(columns={'Ship Date':'date','Sales':'sales'},inplace=True)"
      ],
      "metadata": {
        "id": "USfauIGaUg7Z"
      },
      "execution_count": 6,
      "outputs": []
    },
    {
      "cell_type": "code",
      "source": [
        "df_diff = data1.copy()\n",
        "df_diff['prev_sales'] = df_diff['sales'].shift(1)\n",
        "df_diff = df_diff.dropna()\n",
        "df_diff['diff'] = (df_diff['sales'] - df_diff['prev_sales'])\n",
        "df_diff.head(10)"
      ],
      "metadata": {
        "colab": {
          "base_uri": "https://localhost:8080/",
          "height": 467
        },
        "id": "ngEH7NeKUldM",
        "outputId": "8b3e1d10-4c7a-4578-900c-45ae51b9757a"
      },
      "execution_count": 7,
      "outputs": [
        {
          "output_type": "stream",
          "name": "stderr",
          "text": [
            "/usr/local/lib/python3.7/dist-packages/ipykernel_launcher.py:4: SettingWithCopyWarning: \n",
            "A value is trying to be set on a copy of a slice from a DataFrame.\n",
            "Try using .loc[row_indexer,col_indexer] = value instead\n",
            "\n",
            "See the caveats in the documentation: https://pandas.pydata.org/pandas-docs/stable/user_guide/indexing.html#returning-a-view-versus-a-copy\n",
            "  after removing the cwd from sys.path.\n"
          ]
        },
        {
          "output_type": "execute_result",
          "data": {
            "text/plain": [
              "         date      sales  prev_sales       diff\n",
              "1  2014-02-01   112.4110     149.950   -37.5390\n",
              "2  2014-03-01   483.5460     112.411   371.1350\n",
              "3  2014-04-01   680.2520     483.546   196.7060\n",
              "4  2014-05-01   504.8280     680.252  -175.4240\n",
              "5  2014-06-01   656.0660     504.828   151.2380\n",
              "6  2014-07-01   504.5860     656.066  -151.4800\n",
              "7  2014-08-01   884.6660     504.586   380.0800\n",
              "8  2014-09-01   947.6480     884.666    62.9820\n",
              "9  2014-10-01   672.9930     947.648  -274.6550\n",
              "10 2014-11-01  2202.8545     672.993  1529.8615"
            ],
            "text/html": [
              "\n",
              "  <div id=\"df-067d4508-f163-482c-b2a6-5c84e5b19341\">\n",
              "    <div class=\"colab-df-container\">\n",
              "      <div>\n",
              "<style scoped>\n",
              "    .dataframe tbody tr th:only-of-type {\n",
              "        vertical-align: middle;\n",
              "    }\n",
              "\n",
              "    .dataframe tbody tr th {\n",
              "        vertical-align: top;\n",
              "    }\n",
              "\n",
              "    .dataframe thead th {\n",
              "        text-align: right;\n",
              "    }\n",
              "</style>\n",
              "<table border=\"1\" class=\"dataframe\">\n",
              "  <thead>\n",
              "    <tr style=\"text-align: right;\">\n",
              "      <th></th>\n",
              "      <th>date</th>\n",
              "      <th>sales</th>\n",
              "      <th>prev_sales</th>\n",
              "      <th>diff</th>\n",
              "    </tr>\n",
              "  </thead>\n",
              "  <tbody>\n",
              "    <tr>\n",
              "      <th>1</th>\n",
              "      <td>2014-02-01</td>\n",
              "      <td>112.4110</td>\n",
              "      <td>149.950</td>\n",
              "      <td>-37.5390</td>\n",
              "    </tr>\n",
              "    <tr>\n",
              "      <th>2</th>\n",
              "      <td>2014-03-01</td>\n",
              "      <td>483.5460</td>\n",
              "      <td>112.411</td>\n",
              "      <td>371.1350</td>\n",
              "    </tr>\n",
              "    <tr>\n",
              "      <th>3</th>\n",
              "      <td>2014-04-01</td>\n",
              "      <td>680.2520</td>\n",
              "      <td>483.546</td>\n",
              "      <td>196.7060</td>\n",
              "    </tr>\n",
              "    <tr>\n",
              "      <th>4</th>\n",
              "      <td>2014-05-01</td>\n",
              "      <td>504.8280</td>\n",
              "      <td>680.252</td>\n",
              "      <td>-175.4240</td>\n",
              "    </tr>\n",
              "    <tr>\n",
              "      <th>5</th>\n",
              "      <td>2014-06-01</td>\n",
              "      <td>656.0660</td>\n",
              "      <td>504.828</td>\n",
              "      <td>151.2380</td>\n",
              "    </tr>\n",
              "    <tr>\n",
              "      <th>6</th>\n",
              "      <td>2014-07-01</td>\n",
              "      <td>504.5860</td>\n",
              "      <td>656.066</td>\n",
              "      <td>-151.4800</td>\n",
              "    </tr>\n",
              "    <tr>\n",
              "      <th>7</th>\n",
              "      <td>2014-08-01</td>\n",
              "      <td>884.6660</td>\n",
              "      <td>504.586</td>\n",
              "      <td>380.0800</td>\n",
              "    </tr>\n",
              "    <tr>\n",
              "      <th>8</th>\n",
              "      <td>2014-09-01</td>\n",
              "      <td>947.6480</td>\n",
              "      <td>884.666</td>\n",
              "      <td>62.9820</td>\n",
              "    </tr>\n",
              "    <tr>\n",
              "      <th>9</th>\n",
              "      <td>2014-10-01</td>\n",
              "      <td>672.9930</td>\n",
              "      <td>947.648</td>\n",
              "      <td>-274.6550</td>\n",
              "    </tr>\n",
              "    <tr>\n",
              "      <th>10</th>\n",
              "      <td>2014-11-01</td>\n",
              "      <td>2202.8545</td>\n",
              "      <td>672.993</td>\n",
              "      <td>1529.8615</td>\n",
              "    </tr>\n",
              "  </tbody>\n",
              "</table>\n",
              "</div>\n",
              "      <button class=\"colab-df-convert\" onclick=\"convertToInteractive('df-067d4508-f163-482c-b2a6-5c84e5b19341')\"\n",
              "              title=\"Convert this dataframe to an interactive table.\"\n",
              "              style=\"display:none;\">\n",
              "        \n",
              "  <svg xmlns=\"http://www.w3.org/2000/svg\" height=\"24px\"viewBox=\"0 0 24 24\"\n",
              "       width=\"24px\">\n",
              "    <path d=\"M0 0h24v24H0V0z\" fill=\"none\"/>\n",
              "    <path d=\"M18.56 5.44l.94 2.06.94-2.06 2.06-.94-2.06-.94-.94-2.06-.94 2.06-2.06.94zm-11 1L8.5 8.5l.94-2.06 2.06-.94-2.06-.94L8.5 2.5l-.94 2.06-2.06.94zm10 10l.94 2.06.94-2.06 2.06-.94-2.06-.94-.94-2.06-.94 2.06-2.06.94z\"/><path d=\"M17.41 7.96l-1.37-1.37c-.4-.4-.92-.59-1.43-.59-.52 0-1.04.2-1.43.59L10.3 9.45l-7.72 7.72c-.78.78-.78 2.05 0 2.83L4 21.41c.39.39.9.59 1.41.59.51 0 1.02-.2 1.41-.59l7.78-7.78 2.81-2.81c.8-.78.8-2.07 0-2.86zM5.41 20L4 18.59l7.72-7.72 1.47 1.35L5.41 20z\"/>\n",
              "  </svg>\n",
              "      </button>\n",
              "      \n",
              "  <style>\n",
              "    .colab-df-container {\n",
              "      display:flex;\n",
              "      flex-wrap:wrap;\n",
              "      gap: 12px;\n",
              "    }\n",
              "\n",
              "    .colab-df-convert {\n",
              "      background-color: #E8F0FE;\n",
              "      border: none;\n",
              "      border-radius: 50%;\n",
              "      cursor: pointer;\n",
              "      display: none;\n",
              "      fill: #1967D2;\n",
              "      height: 32px;\n",
              "      padding: 0 0 0 0;\n",
              "      width: 32px;\n",
              "    }\n",
              "\n",
              "    .colab-df-convert:hover {\n",
              "      background-color: #E2EBFA;\n",
              "      box-shadow: 0px 1px 2px rgba(60, 64, 67, 0.3), 0px 1px 3px 1px rgba(60, 64, 67, 0.15);\n",
              "      fill: #174EA6;\n",
              "    }\n",
              "\n",
              "    [theme=dark] .colab-df-convert {\n",
              "      background-color: #3B4455;\n",
              "      fill: #D2E3FC;\n",
              "    }\n",
              "\n",
              "    [theme=dark] .colab-df-convert:hover {\n",
              "      background-color: #434B5C;\n",
              "      box-shadow: 0px 1px 3px 1px rgba(0, 0, 0, 0.15);\n",
              "      filter: drop-shadow(0px 1px 2px rgba(0, 0, 0, 0.3));\n",
              "      fill: #FFFFFF;\n",
              "    }\n",
              "  </style>\n",
              "\n",
              "      <script>\n",
              "        const buttonEl =\n",
              "          document.querySelector('#df-067d4508-f163-482c-b2a6-5c84e5b19341 button.colab-df-convert');\n",
              "        buttonEl.style.display =\n",
              "          google.colab.kernel.accessAllowed ? 'block' : 'none';\n",
              "\n",
              "        async function convertToInteractive(key) {\n",
              "          const element = document.querySelector('#df-067d4508-f163-482c-b2a6-5c84e5b19341');\n",
              "          const dataTable =\n",
              "            await google.colab.kernel.invokeFunction('convertToInteractive',\n",
              "                                                     [key], {});\n",
              "          if (!dataTable) return;\n",
              "\n",
              "          const docLinkHtml = 'Like what you see? Visit the ' +\n",
              "            '<a target=\"_blank\" href=https://colab.research.google.com/notebooks/data_table.ipynb>data table notebook</a>'\n",
              "            + ' to learn more about interactive tables.';\n",
              "          element.innerHTML = '';\n",
              "          dataTable['output_type'] = 'display_data';\n",
              "          await google.colab.output.renderOutput(dataTable, element);\n",
              "          const docLink = document.createElement('div');\n",
              "          docLink.innerHTML = docLinkHtml;\n",
              "          element.appendChild(docLink);\n",
              "        }\n",
              "      </script>\n",
              "    </div>\n",
              "  </div>\n",
              "  "
            ]
          },
          "metadata": {},
          "execution_count": 7
        }
      ]
    },
    {
      "cell_type": "markdown",
      "source": [
        "<h4><b>SHIFTING THE DATA </b></h4>"
      ],
      "metadata": {
        "id": "ltYV7esCe8VU"
      }
    },
    {
      "cell_type": "code",
      "source": [
        "df_supervised = df_diff.drop(['prev_sales'],axis=1)\n",
        "for inc in range(1,13):\n",
        "    field_name = 'lag_' + str(inc)\n",
        "    df_supervised[field_name] = df_supervised['diff'].shift(inc)\n",
        "df_supervised = df_supervised.dropna().reset_index(drop=True)"
      ],
      "metadata": {
        "id": "gQO3mlERUtEi"
      },
      "execution_count": 8,
      "outputs": []
    },
    {
      "cell_type": "code",
      "source": [
        "df_supervised.head(10)"
      ],
      "metadata": {
        "colab": {
          "base_uri": "https://localhost:8080/",
          "height": 363
        },
        "id": "IVjnv6gFUwWs",
        "outputId": "95be8cf2-998e-4007-9dd7-e1637efa5317"
      },
      "execution_count": 9,
      "outputs": [
        {
          "output_type": "execute_result",
          "data": {
            "text/plain": [
              "        date     sales      diff     lag_1      lag_2      lag_3      lag_4  \\\n",
              "0 2015-02-01   193.320  -808.572  -448.400  -752.5625  1529.8615  -274.6550   \n",
              "1 2015-03-01   869.571   676.251  -808.572  -448.4000  -752.5625  1529.8615   \n",
              "2 2015-04-01   646.701  -222.870   676.251  -808.5720  -448.4000  -752.5625   \n",
              "3 2015-05-01   613.698   -33.003  -222.870   676.2510  -808.5720  -448.4000   \n",
              "4 2015-06-01   568.997   -44.701   -33.003  -222.8700   676.2510  -808.5720   \n",
              "5 2015-07-01   919.115   350.118   -44.701   -33.0030  -222.8700   676.2510   \n",
              "6 2015-08-01   547.600  -371.515   350.118   -44.7010   -33.0030  -222.8700   \n",
              "7 2015-09-01  2256.418  1708.818  -371.515   350.1180   -44.7010   -33.0030   \n",
              "8 2015-10-01   989.430 -1266.988  1708.818  -371.5150   350.1180   -44.7010   \n",
              "9 2015-11-01  1941.838   952.408 -1266.988  1708.8180  -371.5150   350.1180   \n",
              "\n",
              "       lag_5      lag_6      lag_7      lag_8      lag_9     lag_10  \\\n",
              "0    62.9820   380.0800  -151.4800   151.2380  -175.4240   196.7060   \n",
              "1  -274.6550    62.9820   380.0800  -151.4800   151.2380  -175.4240   \n",
              "2  1529.8615  -274.6550    62.9820   380.0800  -151.4800   151.2380   \n",
              "3  -752.5625  1529.8615  -274.6550    62.9820   380.0800  -151.4800   \n",
              "4  -448.4000  -752.5625  1529.8615  -274.6550    62.9820   380.0800   \n",
              "5  -808.5720  -448.4000  -752.5625  1529.8615  -274.6550    62.9820   \n",
              "6   676.2510  -808.5720  -448.4000  -752.5625  1529.8615  -274.6550   \n",
              "7  -222.8700   676.2510  -808.5720  -448.4000  -752.5625  1529.8615   \n",
              "8   -33.0030  -222.8700   676.2510  -808.5720  -448.4000  -752.5625   \n",
              "9   -44.7010   -33.0030  -222.8700   676.2510  -808.5720  -448.4000   \n",
              "\n",
              "      lag_11     lag_12  \n",
              "0   371.1350   -37.5390  \n",
              "1   196.7060   371.1350  \n",
              "2  -175.4240   196.7060  \n",
              "3   151.2380  -175.4240  \n",
              "4  -151.4800   151.2380  \n",
              "5   380.0800  -151.4800  \n",
              "6    62.9820   380.0800  \n",
              "7  -274.6550    62.9820  \n",
              "8  1529.8615  -274.6550  \n",
              "9  -752.5625  1529.8615  "
            ],
            "text/html": [
              "\n",
              "  <div id=\"df-366ad60e-6415-4fb1-a90d-d892ea294006\">\n",
              "    <div class=\"colab-df-container\">\n",
              "      <div>\n",
              "<style scoped>\n",
              "    .dataframe tbody tr th:only-of-type {\n",
              "        vertical-align: middle;\n",
              "    }\n",
              "\n",
              "    .dataframe tbody tr th {\n",
              "        vertical-align: top;\n",
              "    }\n",
              "\n",
              "    .dataframe thead th {\n",
              "        text-align: right;\n",
              "    }\n",
              "</style>\n",
              "<table border=\"1\" class=\"dataframe\">\n",
              "  <thead>\n",
              "    <tr style=\"text-align: right;\">\n",
              "      <th></th>\n",
              "      <th>date</th>\n",
              "      <th>sales</th>\n",
              "      <th>diff</th>\n",
              "      <th>lag_1</th>\n",
              "      <th>lag_2</th>\n",
              "      <th>lag_3</th>\n",
              "      <th>lag_4</th>\n",
              "      <th>lag_5</th>\n",
              "      <th>lag_6</th>\n",
              "      <th>lag_7</th>\n",
              "      <th>lag_8</th>\n",
              "      <th>lag_9</th>\n",
              "      <th>lag_10</th>\n",
              "      <th>lag_11</th>\n",
              "      <th>lag_12</th>\n",
              "    </tr>\n",
              "  </thead>\n",
              "  <tbody>\n",
              "    <tr>\n",
              "      <th>0</th>\n",
              "      <td>2015-02-01</td>\n",
              "      <td>193.320</td>\n",
              "      <td>-808.572</td>\n",
              "      <td>-448.400</td>\n",
              "      <td>-752.5625</td>\n",
              "      <td>1529.8615</td>\n",
              "      <td>-274.6550</td>\n",
              "      <td>62.9820</td>\n",
              "      <td>380.0800</td>\n",
              "      <td>-151.4800</td>\n",
              "      <td>151.2380</td>\n",
              "      <td>-175.4240</td>\n",
              "      <td>196.7060</td>\n",
              "      <td>371.1350</td>\n",
              "      <td>-37.5390</td>\n",
              "    </tr>\n",
              "    <tr>\n",
              "      <th>1</th>\n",
              "      <td>2015-03-01</td>\n",
              "      <td>869.571</td>\n",
              "      <td>676.251</td>\n",
              "      <td>-808.572</td>\n",
              "      <td>-448.4000</td>\n",
              "      <td>-752.5625</td>\n",
              "      <td>1529.8615</td>\n",
              "      <td>-274.6550</td>\n",
              "      <td>62.9820</td>\n",
              "      <td>380.0800</td>\n",
              "      <td>-151.4800</td>\n",
              "      <td>151.2380</td>\n",
              "      <td>-175.4240</td>\n",
              "      <td>196.7060</td>\n",
              "      <td>371.1350</td>\n",
              "    </tr>\n",
              "    <tr>\n",
              "      <th>2</th>\n",
              "      <td>2015-04-01</td>\n",
              "      <td>646.701</td>\n",
              "      <td>-222.870</td>\n",
              "      <td>676.251</td>\n",
              "      <td>-808.5720</td>\n",
              "      <td>-448.4000</td>\n",
              "      <td>-752.5625</td>\n",
              "      <td>1529.8615</td>\n",
              "      <td>-274.6550</td>\n",
              "      <td>62.9820</td>\n",
              "      <td>380.0800</td>\n",
              "      <td>-151.4800</td>\n",
              "      <td>151.2380</td>\n",
              "      <td>-175.4240</td>\n",
              "      <td>196.7060</td>\n",
              "    </tr>\n",
              "    <tr>\n",
              "      <th>3</th>\n",
              "      <td>2015-05-01</td>\n",
              "      <td>613.698</td>\n",
              "      <td>-33.003</td>\n",
              "      <td>-222.870</td>\n",
              "      <td>676.2510</td>\n",
              "      <td>-808.5720</td>\n",
              "      <td>-448.4000</td>\n",
              "      <td>-752.5625</td>\n",
              "      <td>1529.8615</td>\n",
              "      <td>-274.6550</td>\n",
              "      <td>62.9820</td>\n",
              "      <td>380.0800</td>\n",
              "      <td>-151.4800</td>\n",
              "      <td>151.2380</td>\n",
              "      <td>-175.4240</td>\n",
              "    </tr>\n",
              "    <tr>\n",
              "      <th>4</th>\n",
              "      <td>2015-06-01</td>\n",
              "      <td>568.997</td>\n",
              "      <td>-44.701</td>\n",
              "      <td>-33.003</td>\n",
              "      <td>-222.8700</td>\n",
              "      <td>676.2510</td>\n",
              "      <td>-808.5720</td>\n",
              "      <td>-448.4000</td>\n",
              "      <td>-752.5625</td>\n",
              "      <td>1529.8615</td>\n",
              "      <td>-274.6550</td>\n",
              "      <td>62.9820</td>\n",
              "      <td>380.0800</td>\n",
              "      <td>-151.4800</td>\n",
              "      <td>151.2380</td>\n",
              "    </tr>\n",
              "    <tr>\n",
              "      <th>5</th>\n",
              "      <td>2015-07-01</td>\n",
              "      <td>919.115</td>\n",
              "      <td>350.118</td>\n",
              "      <td>-44.701</td>\n",
              "      <td>-33.0030</td>\n",
              "      <td>-222.8700</td>\n",
              "      <td>676.2510</td>\n",
              "      <td>-808.5720</td>\n",
              "      <td>-448.4000</td>\n",
              "      <td>-752.5625</td>\n",
              "      <td>1529.8615</td>\n",
              "      <td>-274.6550</td>\n",
              "      <td>62.9820</td>\n",
              "      <td>380.0800</td>\n",
              "      <td>-151.4800</td>\n",
              "    </tr>\n",
              "    <tr>\n",
              "      <th>6</th>\n",
              "      <td>2015-08-01</td>\n",
              "      <td>547.600</td>\n",
              "      <td>-371.515</td>\n",
              "      <td>350.118</td>\n",
              "      <td>-44.7010</td>\n",
              "      <td>-33.0030</td>\n",
              "      <td>-222.8700</td>\n",
              "      <td>676.2510</td>\n",
              "      <td>-808.5720</td>\n",
              "      <td>-448.4000</td>\n",
              "      <td>-752.5625</td>\n",
              "      <td>1529.8615</td>\n",
              "      <td>-274.6550</td>\n",
              "      <td>62.9820</td>\n",
              "      <td>380.0800</td>\n",
              "    </tr>\n",
              "    <tr>\n",
              "      <th>7</th>\n",
              "      <td>2015-09-01</td>\n",
              "      <td>2256.418</td>\n",
              "      <td>1708.818</td>\n",
              "      <td>-371.515</td>\n",
              "      <td>350.1180</td>\n",
              "      <td>-44.7010</td>\n",
              "      <td>-33.0030</td>\n",
              "      <td>-222.8700</td>\n",
              "      <td>676.2510</td>\n",
              "      <td>-808.5720</td>\n",
              "      <td>-448.4000</td>\n",
              "      <td>-752.5625</td>\n",
              "      <td>1529.8615</td>\n",
              "      <td>-274.6550</td>\n",
              "      <td>62.9820</td>\n",
              "    </tr>\n",
              "    <tr>\n",
              "      <th>8</th>\n",
              "      <td>2015-10-01</td>\n",
              "      <td>989.430</td>\n",
              "      <td>-1266.988</td>\n",
              "      <td>1708.818</td>\n",
              "      <td>-371.5150</td>\n",
              "      <td>350.1180</td>\n",
              "      <td>-44.7010</td>\n",
              "      <td>-33.0030</td>\n",
              "      <td>-222.8700</td>\n",
              "      <td>676.2510</td>\n",
              "      <td>-808.5720</td>\n",
              "      <td>-448.4000</td>\n",
              "      <td>-752.5625</td>\n",
              "      <td>1529.8615</td>\n",
              "      <td>-274.6550</td>\n",
              "    </tr>\n",
              "    <tr>\n",
              "      <th>9</th>\n",
              "      <td>2015-11-01</td>\n",
              "      <td>1941.838</td>\n",
              "      <td>952.408</td>\n",
              "      <td>-1266.988</td>\n",
              "      <td>1708.8180</td>\n",
              "      <td>-371.5150</td>\n",
              "      <td>350.1180</td>\n",
              "      <td>-44.7010</td>\n",
              "      <td>-33.0030</td>\n",
              "      <td>-222.8700</td>\n",
              "      <td>676.2510</td>\n",
              "      <td>-808.5720</td>\n",
              "      <td>-448.4000</td>\n",
              "      <td>-752.5625</td>\n",
              "      <td>1529.8615</td>\n",
              "    </tr>\n",
              "  </tbody>\n",
              "</table>\n",
              "</div>\n",
              "      <button class=\"colab-df-convert\" onclick=\"convertToInteractive('df-366ad60e-6415-4fb1-a90d-d892ea294006')\"\n",
              "              title=\"Convert this dataframe to an interactive table.\"\n",
              "              style=\"display:none;\">\n",
              "        \n",
              "  <svg xmlns=\"http://www.w3.org/2000/svg\" height=\"24px\"viewBox=\"0 0 24 24\"\n",
              "       width=\"24px\">\n",
              "    <path d=\"M0 0h24v24H0V0z\" fill=\"none\"/>\n",
              "    <path d=\"M18.56 5.44l.94 2.06.94-2.06 2.06-.94-2.06-.94-.94-2.06-.94 2.06-2.06.94zm-11 1L8.5 8.5l.94-2.06 2.06-.94-2.06-.94L8.5 2.5l-.94 2.06-2.06.94zm10 10l.94 2.06.94-2.06 2.06-.94-2.06-.94-.94-2.06-.94 2.06-2.06.94z\"/><path d=\"M17.41 7.96l-1.37-1.37c-.4-.4-.92-.59-1.43-.59-.52 0-1.04.2-1.43.59L10.3 9.45l-7.72 7.72c-.78.78-.78 2.05 0 2.83L4 21.41c.39.39.9.59 1.41.59.51 0 1.02-.2 1.41-.59l7.78-7.78 2.81-2.81c.8-.78.8-2.07 0-2.86zM5.41 20L4 18.59l7.72-7.72 1.47 1.35L5.41 20z\"/>\n",
              "  </svg>\n",
              "      </button>\n",
              "      \n",
              "  <style>\n",
              "    .colab-df-container {\n",
              "      display:flex;\n",
              "      flex-wrap:wrap;\n",
              "      gap: 12px;\n",
              "    }\n",
              "\n",
              "    .colab-df-convert {\n",
              "      background-color: #E8F0FE;\n",
              "      border: none;\n",
              "      border-radius: 50%;\n",
              "      cursor: pointer;\n",
              "      display: none;\n",
              "      fill: #1967D2;\n",
              "      height: 32px;\n",
              "      padding: 0 0 0 0;\n",
              "      width: 32px;\n",
              "    }\n",
              "\n",
              "    .colab-df-convert:hover {\n",
              "      background-color: #E2EBFA;\n",
              "      box-shadow: 0px 1px 2px rgba(60, 64, 67, 0.3), 0px 1px 3px 1px rgba(60, 64, 67, 0.15);\n",
              "      fill: #174EA6;\n",
              "    }\n",
              "\n",
              "    [theme=dark] .colab-df-convert {\n",
              "      background-color: #3B4455;\n",
              "      fill: #D2E3FC;\n",
              "    }\n",
              "\n",
              "    [theme=dark] .colab-df-convert:hover {\n",
              "      background-color: #434B5C;\n",
              "      box-shadow: 0px 1px 3px 1px rgba(0, 0, 0, 0.15);\n",
              "      filter: drop-shadow(0px 1px 2px rgba(0, 0, 0, 0.3));\n",
              "      fill: #FFFFFF;\n",
              "    }\n",
              "  </style>\n",
              "\n",
              "      <script>\n",
              "        const buttonEl =\n",
              "          document.querySelector('#df-366ad60e-6415-4fb1-a90d-d892ea294006 button.colab-df-convert');\n",
              "        buttonEl.style.display =\n",
              "          google.colab.kernel.accessAllowed ? 'block' : 'none';\n",
              "\n",
              "        async function convertToInteractive(key) {\n",
              "          const element = document.querySelector('#df-366ad60e-6415-4fb1-a90d-d892ea294006');\n",
              "          const dataTable =\n",
              "            await google.colab.kernel.invokeFunction('convertToInteractive',\n",
              "                                                     [key], {});\n",
              "          if (!dataTable) return;\n",
              "\n",
              "          const docLinkHtml = 'Like what you see? Visit the ' +\n",
              "            '<a target=\"_blank\" href=https://colab.research.google.com/notebooks/data_table.ipynb>data table notebook</a>'\n",
              "            + ' to learn more about interactive tables.';\n",
              "          element.innerHTML = '';\n",
              "          dataTable['output_type'] = 'display_data';\n",
              "          await google.colab.output.renderOutput(dataTable, element);\n",
              "          const docLink = document.createElement('div');\n",
              "          docLink.innerHTML = docLinkHtml;\n",
              "          element.appendChild(docLink);\n",
              "        }\n",
              "      </script>\n",
              "    </div>\n",
              "  </div>\n",
              "  "
            ]
          },
          "metadata": {},
          "execution_count": 9
        }
      ]
    },
    {
      "cell_type": "code",
      "source": [
        "len(df_supervised)"
      ],
      "metadata": {
        "colab": {
          "base_uri": "https://localhost:8080/"
        },
        "id": "1IDPvzZhUxev",
        "outputId": "37a91fce-4f48-4bf3-c536-56794ebfe7bf"
      },
      "execution_count": 10,
      "outputs": [
        {
          "output_type": "execute_result",
          "data": {
            "text/plain": [
              "36"
            ]
          },
          "metadata": {},
          "execution_count": 10
        }
      ]
    },
    {
      "cell_type": "code",
      "source": [
        "df_model = df_supervised.drop(['date','sales'],axis=1)\n",
        "train_set, test_set = df_model[0:-6].values, df_model[-6:].values"
      ],
      "metadata": {
        "id": "-Wk9KCQKU1JD"
      },
      "execution_count": 11,
      "outputs": []
    },
    {
      "cell_type": "markdown",
      "source": [
        "<h4><b>MIX MAX SCALER CONVERSION </b></h4>"
      ],
      "metadata": {
        "id": "XsfLtl53fICs"
      }
    },
    {
      "cell_type": "code",
      "source": [
        "from sklearn.preprocessing import MinMaxScaler\n",
        "scaler = MinMaxScaler(feature_range=(-1, 1))\n",
        "scaler = scaler.fit(train_set)\n",
        "train_set = train_set.reshape(train_set.shape[0], train_set.shape[1])\n",
        "train_set_scaled = scaler.transform(train_set)\n",
        "test_set = test_set.reshape(test_set.shape[0], test_set.shape[1])\n",
        "test_set_scaled = scaler.transform(test_set)"
      ],
      "metadata": {
        "id": "ROfeiA7mU5yk"
      },
      "execution_count": 12,
      "outputs": []
    },
    {
      "cell_type": "code",
      "source": [
        "X_train, y_train = train_set_scaled[:, 1:], train_set_scaled[:, 0:1]\n",
        "X_train = X_train.reshape(X_train.shape[0], X_train.shape[1])\n",
        "X_test, y_test = test_set_scaled[:, 1:], test_set_scaled[:, 0:1]\n",
        "X_test = X_test.reshape(X_test.shape[0], X_test.shape[1])"
      ],
      "metadata": {
        "id": "n9-vf41hVHdh"
      },
      "execution_count": 13,
      "outputs": []
    },
    {
      "cell_type": "code",
      "source": [
        "X_train"
      ],
      "metadata": {
        "id": "aQYvPoeRXIhj"
      },
      "execution_count": null,
      "outputs": []
    },
    {
      "cell_type": "code",
      "source": [
        "y_test"
      ],
      "metadata": {
        "colab": {
          "base_uri": "https://localhost:8080/"
        },
        "id": "0XMqjKsbXNkh",
        "outputId": "5a76ef00-0bf1-49c1-b527-7fb8600a496d"
      },
      "execution_count": 15,
      "outputs": [
        {
          "output_type": "execute_result",
          "data": {
            "text/plain": [
              "array([[ 0.3707856 ],\n",
              "       [ 0.85295326],\n",
              "       [-0.68132225],\n",
              "       [ 0.5674062 ],\n",
              "       [ 0.41737886],\n",
              "       [-0.89225451]])"
            ]
          },
          "metadata": {},
          "execution_count": 15
        }
      ]
    },
    {
      "cell_type": "markdown",
      "source": [
        "<h4> <b>XGBOOST MODEL BUILDING</b></h4>"
      ],
      "metadata": {
        "id": "04pxJTZlfRDo"
      }
    },
    {
      "cell_type": "code",
      "source": [
        "xgb_r = xg.XGBRegressor(objective ='reg:linear',\n",
        "                  n_estimators = 50, seed = 123)"
      ],
      "metadata": {
        "id": "xUH7z-HRVK22"
      },
      "execution_count": 16,
      "outputs": []
    },
    {
      "cell_type": "code",
      "source": [
        "xgb_r.fit(X_train, y_train)"
      ],
      "metadata": {
        "colab": {
          "base_uri": "https://localhost:8080/"
        },
        "id": "j3HTEpgYVPou",
        "outputId": "9a781f1c-9605-460c-fc1e-11be66475b8c"
      },
      "execution_count": 17,
      "outputs": [
        {
          "output_type": "stream",
          "name": "stdout",
          "text": [
            "[09:54:26] WARNING: /workspace/src/objective/regression_obj.cu:152: reg:linear is now deprecated in favor of reg:squarederror.\n"
          ]
        },
        {
          "output_type": "execute_result",
          "data": {
            "text/plain": [
              "XGBRegressor(n_estimators=50, seed=123)"
            ]
          },
          "metadata": {},
          "execution_count": 17
        }
      ]
    },
    {
      "cell_type": "code",
      "source": [
        "xgb_r"
      ],
      "metadata": {
        "id": "Rh7l8xKufHQ6",
        "outputId": "87770c52-88ce-4cf0-dee6-e3c6cc685167",
        "colab": {
          "base_uri": "https://localhost:8080/"
        }
      },
      "execution_count": 19,
      "outputs": [
        {
          "output_type": "execute_result",
          "data": {
            "text/plain": [
              "XGBRegressor(n_estimators=50, seed=123)"
            ]
          },
          "metadata": {},
          "execution_count": 19
        }
      ]
    },
    {
      "cell_type": "markdown",
      "source": [
        "<h4><b>PREDICTION</b></h4>"
      ],
      "metadata": {
        "id": "vdbPWq14fbGt"
      }
    },
    {
      "cell_type": "code",
      "source": [
        "pred = xgb_r.predict(X_test)"
      ],
      "metadata": {
        "id": "Li-AlQ-hVjoP"
      },
      "execution_count": 20,
      "outputs": []
    },
    {
      "cell_type": "markdown",
      "source": [
        "<h4><b>ERROR CALCULATION</b></h4>"
      ],
      "metadata": {
        "id": "m8UAwFFkftBE"
      }
    },
    {
      "cell_type": "code",
      "source": [
        "def forecast_accuracy(forecast, actual):\n",
        "    mape = np.mean(np.abs(forecast - actual)/np.abs(actual))  # MAPE\n",
        "    me = np.mean(forecast - actual)             # ME\n",
        "    mae = np.mean(np.abs(forecast - actual))    # MAE\n",
        "    mpe = np.mean((forecast - actual)/actual)   # MPE\n",
        "    rmse = np.mean((forecast - actual)**2)**.5  # RMSE \n",
        "    return({'mape':mape, 'me':me, 'mae': mae, \n",
        "            'mpe': mpe, 'rmse':rmse, })\n",
        "forecast_accuracy(pred,y_test)"
      ],
      "metadata": {
        "colab": {
          "base_uri": "https://localhost:8080/"
        },
        "id": "a5hxRsvkVrEc",
        "outputId": "ee0ef767-622e-40c2-dc73-456422f732fc"
      },
      "execution_count": 23,
      "outputs": [
        {
          "output_type": "execute_result",
          "data": {
            "text/plain": [
              "{'mae': 0.642802566961818,\n",
              " 'mape': 1.0233176990421788,\n",
              " 'me': 0.004527926110203072,\n",
              " 'mpe': -0.8999619438682974,\n",
              " 'rmse': 0.7936712098477522}"
            ]
          },
          "metadata": {},
          "execution_count": 23
        }
      ]
    },
    {
      "cell_type": "code",
      "source": [
        "pred = pred.reshape(y_test.shape)\n",
        "pred"
      ],
      "metadata": {
        "colab": {
          "base_uri": "https://localhost:8080/"
        },
        "id": "0vXA42nNV3ag",
        "outputId": "e229de90-06e8-4f60-f959-3e4d846c2d4e"
      },
      "execution_count": 24,
      "outputs": [
        {
          "output_type": "execute_result",
          "data": {
            "text/plain": [
              "array([[ 0.09752437],\n",
              "       [ 0.32270783],\n",
              "       [-0.42135912],\n",
              "       [ 0.57956254],\n",
              "       [ 0.61957085],\n",
              "       [-0.5358918 ]], dtype=float32)"
            ]
          },
          "metadata": {},
          "execution_count": 24
        }
      ]
    },
    {
      "cell_type": "code",
      "source": [
        "y_pred = pred.reshape(y_test.shape)"
      ],
      "metadata": {
        "id": "g2QK0e2eZalu"
      },
      "execution_count": 25,
      "outputs": []
    },
    {
      "cell_type": "markdown",
      "source": [
        "<h4><b>DATA FRAME EXTRACTION</b></h4>"
      ],
      "metadata": {
        "id": "GCpugSfEfi5K"
      }
    },
    {
      "cell_type": "code",
      "source": [
        "y_pred = y_pred.reshape(y_pred.shape[0],y_pred.shape[1])\n",
        "pred_test_set = []\n",
        "for index in range(0,len(y_pred)):\n",
        "    print(np.concatenate([y_pred[index],X_test[index]]))\n",
        "    pred_test_set.append(np.concatenate([y_pred[index],X_test[index]]))\n",
        "pred_test_set = np.array(pred_test_set)\n",
        "pred_test_set = pred_test_set.reshape(pred_test_set.shape[0], pred_test_set.shape[1])\n",
        "pred_test_set_inverted = scaler.inverse_transform(pred_test_set)"
      ],
      "metadata": {
        "colab": {
          "base_uri": "https://localhost:8080/"
        },
        "id": "RpvC55pZa4eY",
        "outputId": "b0727f05-8f41-40d6-9f09-b6ed94b97e4d"
      },
      "execution_count": 26,
      "outputs": [
        {
          "output_type": "stream",
          "name": "stdout",
          "text": [
            "[ 0.09752437  0.15306959  0.0969      0.31223718  0.06080036  0.33473855\n",
            "  0.20749561 -1.49691772  0.50156855  0.80504878 -1.17023556  0.73690758\n",
            " -0.26465099]\n",
            "[ 0.32270783  0.3707856   0.15306959  0.0969      0.31223718  0.06080036\n",
            "  0.33473855  0.01059088 -1.49691772  0.50156855  0.78845496 -1.17023556\n",
            "  0.73690758]\n",
            "[-0.42135912  0.85295326  0.3707856   0.15306959  0.0969      0.31223718\n",
            "  0.06080036  0.16944845  0.01059088 -1.49691772  0.45914317  0.78845496\n",
            " -1.17023556]\n",
            "[ 0.57956254 -0.68132225  0.85295326  0.3707856   0.15306959  0.0969\n",
            "  0.31223718 -0.1725521   0.16944845  0.01059088 -1.70944981  0.45914317\n",
            "  0.78845496]\n",
            "[ 0.61957085  0.5674062  -0.68132225  0.85295326  0.3707856   0.15306959\n",
            "  0.0969      0.14135642 -0.1725521   0.16944845 -0.07362543 -1.70944981\n",
            "  0.45914317]\n",
            "[-0.53589177  0.41737886  0.5674062  -0.68132225  0.85295326  0.3707856\n",
            "  0.15306959 -0.1274832   0.14135642 -0.1725521   0.09875375 -0.07362543\n",
            " -1.70944981]\n"
          ]
        }
      ]
    },
    {
      "cell_type": "code",
      "source": [
        "result_list = []\n",
        "sales_dates = list(data1[-7:].date)\n",
        "act_sales = list(data1[-7:].sales)\n",
        "for index in range(0,len(pred_test_set_inverted)):\n",
        "    result_dict = {}\n",
        "    result_dict['pred_value'] = int(pred_test_set_inverted[index][0] + act_sales[index])\n",
        "    result_dict['date'] = sales_dates[index+1]\n",
        "    result_list.append(result_dict)\n",
        "df_result = pd.DataFrame(result_list)"
      ],
      "metadata": {
        "id": "KaYALpusbIzB"
      },
      "execution_count": 27,
      "outputs": []
    },
    {
      "cell_type": "code",
      "source": [
        "data2 = data1.copy()\n",
        "df_re = df_result.copy()\n",
        "data2  = data2.set_index('date')\n",
        "df_re = df_re.set_index('date')"
      ],
      "metadata": {
        "id": "V4QX8zzSbNI2"
      },
      "execution_count": 28,
      "outputs": []
    },
    {
      "cell_type": "markdown",
      "source": [
        "<h4><b>PLOTING</b></h4>"
      ],
      "metadata": {
        "id": "8wnsQ9KNfzXv"
      }
    },
    {
      "cell_type": "code",
      "source": [
        "import matplotlib.pyplot as plt\n",
        "ax = data2['sales'].plot(figsize=(15,5))\n",
        "df_re['pred_value'].plot(ax=ax,label='XGBOOST')\n",
        "plt.legend()\n",
        "plt.show()"
      ],
      "metadata": {
        "colab": {
          "base_uri": "https://localhost:8080/",
          "height": 334
        },
        "id": "vuAUb9xDbPyr",
        "outputId": "f8306483-a59c-410b-f8c0-1eb3ed67575e"
      },
      "execution_count": 29,
      "outputs": [
        {
          "output_type": "display_data",
          "data": {
            "text/plain": [
              "<Figure size 1080x360 with 1 Axes>"
            ],
            "image/png": "[encoded data removed]"
          },
          "metadata": {
            "needs_background": "light"
          }
        }
      ]
    }
  ]
}